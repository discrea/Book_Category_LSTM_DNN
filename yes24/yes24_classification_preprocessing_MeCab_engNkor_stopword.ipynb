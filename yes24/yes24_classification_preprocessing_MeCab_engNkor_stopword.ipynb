{
 "cells": [
  {
   "cell_type": "code",
   "execution_count": 1,
   "metadata": {},
   "outputs": [
    {
     "ename": "ModuleNotFoundError",
     "evalue": "No module named 'ko_restoration'",
     "output_type": "error",
     "traceback": [
      "\u001b[0;31m---------------------------------------------------------------------------\u001b[0m",
      "\u001b[0;31mModuleNotFoundError\u001b[0m                       Traceback (most recent call last)",
      "\u001b[0;32m<ipython-input-1-da21ca39ead2>\u001b[0m in \u001b[0;36m<module>\u001b[0;34m\u001b[0m\n\u001b[1;32m     14\u001b[0m \u001b[0;32mfrom\u001b[0m \u001b[0mnltk\u001b[0m\u001b[0;34m.\u001b[0m\u001b[0mcorpus\u001b[0m \u001b[0;32mimport\u001b[0m \u001b[0mstopwords\u001b[0m\u001b[0;34m\u001b[0m\u001b[0;34m\u001b[0m\u001b[0m\n\u001b[1;32m     15\u001b[0m \u001b[0;32mfrom\u001b[0m \u001b[0mnltk\u001b[0m\u001b[0;34m.\u001b[0m\u001b[0mtokenize\u001b[0m \u001b[0;32mimport\u001b[0m \u001b[0mword_tokenize\u001b[0m\u001b[0;34m\u001b[0m\u001b[0;34m\u001b[0m\u001b[0m\n\u001b[0;32m---> 16\u001b[0;31m \u001b[0;32mfrom\u001b[0m \u001b[0mko_restoration\u001b[0m \u001b[0;32mimport\u001b[0m \u001b[0mmain\u001b[0m\u001b[0;34m\u001b[0m\u001b[0;34m\u001b[0m\u001b[0m\n\u001b[0m",
      "\u001b[0;31mModuleNotFoundError\u001b[0m: No module named 'ko_restoration'"
     ]
    }
   ],
   "source": [
    "import pandas as pd\n",
    "import numpy as np\n",
    "\n",
    "from sklearn.preprocessing import LabelEncoder\n",
    "from tensorflow.keras.utils import to_categorical\n",
    "from sklearn.model_selection import train_test_split\n",
    "from tensorflow.keras.preprocessing.text import *\n",
    "from tensorflow.keras.preprocessing.sequence import pad_sequences\n",
    "# Import mlcompute module to use the optional set_mlc_device API for device selection with ML Compute.\n",
    "from tensorflow.python.compiler.mlcompute import mlcompute\n",
    "from konlpy.tag import Mecab\n",
    "import pickle\n",
    "import nltk\n",
    "from nltk.corpus import stopwords \n",
    "from nltk.tokenize import word_tokenize"
   ]
  },
  {
   "cell_type": "code",
   "execution_count": 2,
   "metadata": {},
   "outputs": [],
   "source": [
    "pd.set_option('display.unicode.east_asian_width', True)\n"
   ]
  },
  {
   "cell_type": "code",
   "execution_count": 3,
   "metadata": {},
   "outputs": [
    {
     "data": {
      "text/html": [
       "<div>\n",
       "<style scoped>\n",
       "    .dataframe tbody tr th:only-of-type {\n",
       "        vertical-align: middle;\n",
       "    }\n",
       "\n",
       "    .dataframe tbody tr th {\n",
       "        vertical-align: top;\n",
       "    }\n",
       "\n",
       "    .dataframe thead th {\n",
       "        text-align: right;\n",
       "    }\n",
       "</style>\n",
       "<table border=\"1\" class=\"dataframe\">\n",
       "  <thead>\n",
       "    <tr style=\"text-align: right;\">\n",
       "      <th></th>\n",
       "      <th>Title</th>\n",
       "      <th>Medium_category</th>\n",
       "      <th>Small_category</th>\n",
       "      <th>Introduction</th>\n",
       "      <th>cnt</th>\n",
       "    </tr>\n",
       "  </thead>\n",
       "  <tbody>\n",
       "    <tr>\n",
       "      <th>1</th>\n",
       "      <td>-10KG 밀가루 단식</td>\n",
       "      <td>가정 살림</td>\n",
       "      <td>요리</td>\n",
       "      <td>내 몸 리셋 다이어트 10kg 밀가루 단식 저자의 100일 밀가루 단식 다이어...</td>\n",
       "      <td>1</td>\n",
       "    </tr>\n",
       "    <tr>\n",
       "      <th>2</th>\n",
       "      <td>디디미니의 초간단 인생맛 고단백 저탄수화물 다이어트 레시피 ...</td>\n",
       "      <td>가정 살림</td>\n",
       "      <td>요리</td>\n",
       "      <td>맛있고 배부른데 살까지 빠지는 다이어트 레시피 끝판왕 101가지   2018년...</td>\n",
       "      <td>1</td>\n",
       "    </tr>\n",
       "    <tr>\n",
       "      <th>3</th>\n",
       "      <td>맛있게 쓴 옥주부 레시피 100</td>\n",
       "      <td>가정 살림</td>\n",
       "      <td>요리</td>\n",
       "      <td>옥주부가 매일 자신의 인스타그램에 밥상 메뉴를 올리는 이유는 뭐 먹고 사는지 ...</td>\n",
       "      <td>1</td>\n",
       "    </tr>\n",
       "    <tr>\n",
       "      <th>4</th>\n",
       "      <td>세상 쉽고 맛있는 튼이 이유식</td>\n",
       "      <td>가정 살림</td>\n",
       "      <td>요리</td>\n",
       "      <td>쌀가루  큐브  밥솥 칸막이를 활용한 최초의 이유식 책   엄마의 정성과 사랑...</td>\n",
       "      <td>1</td>\n",
       "    </tr>\n",
       "    <tr>\n",
       "      <th>5</th>\n",
       "      <td>맛있게 살 빠지는 고단백 저탄수화물 다이어트 레시피...</td>\n",
       "      <td>가정 살림</td>\n",
       "      <td>요리</td>\n",
       "      <td>다이어트 할 때도 맛있게 먹어야 성공한다 미니는 22kg  엄마는 17kg을 ...</td>\n",
       "      <td>1</td>\n",
       "    </tr>\n",
       "    <tr>\n",
       "      <th>6</th>\n",
       "      <td>임지호의 밥 땅으로부터</td>\n",
       "      <td>가정 살림</td>\n",
       "      <td>요리</td>\n",
       "      <td>면역력이 시대의 슬로건이 된 이때 모두에게 추천하는 임지호의 들풀밥상    ...</td>\n",
       "      <td>1</td>\n",
       "    </tr>\n",
       "    <tr>\n",
       "      <th>7</th>\n",
       "      <td>유아식 레시피북</td>\n",
       "      <td>가정 살림</td>\n",
       "      <td>요리</td>\n",
       "      <td>아이가 잘 안 먹는 것은 엄마 잘못이 아니에요    돌부터 요리를 시작하는 ...</td>\n",
       "      <td>1</td>\n",
       "    </tr>\n",
       "    <tr>\n",
       "      <th>8</th>\n",
       "      <td>와인이 있는 100가지 장면</td>\n",
       "      <td>가정 살림</td>\n",
       "      <td>요리</td>\n",
       "      <td>라라랜드 에서 미아가 꿈속에서 마시는 와인은 뭘까   아이언맨 의 토니 스타...</td>\n",
       "      <td>1</td>\n",
       "    </tr>\n",
       "    <tr>\n",
       "      <th>9</th>\n",
       "      <td>백종원이 추천하는 집밥 메뉴 애장판</td>\n",
       "      <td>가정 살림</td>\n",
       "      <td>요리</td>\n",
       "      <td>국민 요리책   백종원이 추천하는 집밥 메뉴  시리즈 합본 한정판 1 4탄 백...</td>\n",
       "      <td>1</td>\n",
       "    </tr>\n",
       "    <tr>\n",
       "      <th>10</th>\n",
       "      <td>[예스리커버] 매직 레시피</td>\n",
       "      <td>가정 살림</td>\n",
       "      <td>요리</td>\n",
       "      <td>난생처음 요리하는 당신이라도 전문점 맛 그대로      YouTube 요리 ...</td>\n",
       "      <td>1</td>\n",
       "    </tr>\n",
       "  </tbody>\n",
       "</table>\n",
       "</div>"
      ],
      "text/plain": [
       "                                                                Title  \\\n",
       "1                                   -10KG 밀가루 단식                   \n",
       "2   디디미니의 초간단 인생맛 고단백 저탄수화물 다이어트 레시피 ......   \n",
       "3                         맛있게 쓴 옥주부 레시피 100                   \n",
       "4                       세상 쉽고 맛있는 튼이 이유식                    \n",
       "5   맛있게 살 빠지는 고단백 저탄수화물 다이어트 레시피......            \n",
       "6                              임지호의 밥 땅으로부터                   \n",
       "7                                     유아식 레시피북                   \n",
       "8                            와인이 있는 100가지 장면                   \n",
       "9                  백종원이 추천하는 집밥 메뉴 애장판                   \n",
       "10                           [예스리커버] 매직 레시피                   \n",
       "\n",
       "   Medium_category Small_category  \\\n",
       "1        가정 살림           요리   \n",
       "2        가정 살림           요리   \n",
       "3        가정 살림           요리   \n",
       "4        가정 살림           요리   \n",
       "5        가정 살림           요리   \n",
       "6        가정 살림           요리   \n",
       "7        가정 살림           요리   \n",
       "8        가정 살림           요리   \n",
       "9        가정 살림           요리   \n",
       "10       가정 살림           요리   \n",
       "\n",
       "                                                                         Introduction  \\\n",
       "1      내 몸 리셋 다이어트 10kg 밀가루 단식 저자의 100일 밀가루 단식 다이어...          \n",
       "2      맛있고 배부른데 살까지 빠지는 다이어트 레시피 끝판왕 101가지   2018년...         \n",
       "3      옥주부가 매일 자신의 인스타그램에 밥상 메뉴를 올리는 이유는 뭐 먹고 사는지 ...   \n",
       "4      쌀가루  큐브  밥솥 칸막이를 활용한 최초의 이유식 책   엄마의 정성과 사랑...      \n",
       "5      다이어트 할 때도 맛있게 먹어야 성공한다 미니는 22kg  엄마는 17kg을 ...           \n",
       "6       면역력이 시대의 슬로건이 된 이때 모두에게 추천하는 임지호의 들풀밥상    ...     \n",
       "7       아이가 잘 안 먹는 것은 엄마 잘못이 아니에요    돌부터 요리를 시작하는 ...       \n",
       "8       라라랜드 에서 미아가 꿈속에서 마시는 와인은 뭘까   아이언맨 의 토니 스타...     \n",
       "9      국민 요리책   백종원이 추천하는 집밥 메뉴  시리즈 합본 한정판 1 4탄 백...        \n",
       "10      난생처음 요리하는 당신이라도 전문점 맛 그대로      YouTube 요리 ...             \n",
       "\n",
       "    cnt  \n",
       "1     1  \n",
       "2     1  \n",
       "3     1  \n",
       "4     1  \n",
       "5     1  \n",
       "6     1  \n",
       "7     1  \n",
       "8     1  \n",
       "9     1  \n",
       "10    1  "
      ]
     },
     "execution_count": 3,
     "metadata": {},
     "output_type": "execute_result"
    }
   ],
   "source": [
    "raw_df = pd.read_csv('/Users/san/work/python/Deep_Learning/LSTM_DNN_PJT/data/raw_data.csv', index_col=0)\n",
    "raw_df.head(10)"
   ]
  },
  {
   "cell_type": "code",
   "execution_count": 4,
   "metadata": {},
   "outputs": [
    {
     "name": "stdout",
     "output_type": "stream",
     "text": [
      "initial: 41170\n"
     ]
    }
   ],
   "source": [
    "print('initial:', len(raw_df))"
   ]
  },
  {
   "cell_type": "markdown",
   "metadata": {},
   "source": [
    "## data 공백 처리"
   ]
  },
  {
   "cell_type": "code",
   "execution_count": 5,
   "metadata": {},
   "outputs": [],
   "source": [
    "for i in range(len(raw_df)):\n",
    "    for j in range(5, 1, -1):\n",
    "        raw_df.iloc[i,3] = raw_df.iloc[i,3].replace(' '*j,  ' ')"
   ]
  },
  {
   "cell_type": "code",
   "execution_count": 6,
   "metadata": {},
   "outputs": [
    {
     "name": "stdout",
     "output_type": "stream",
     "text": [
      "after gap-healing: 41170\n"
     ]
    }
   ],
   "source": [
    "print('after gap-healing:', len(raw_df))"
   ]
  },
  {
   "cell_type": "markdown",
   "metadata": {},
   "source": [
    "## data 중복 제거"
   ]
  },
  {
   "cell_type": "code",
   "execution_count": 7,
   "metadata": {},
   "outputs": [],
   "source": [
    "# null값 확인\n",
    "# raw_df['Introduction'].isnull().values.any()"
   ]
  },
  {
   "cell_type": "code",
   "execution_count": 8,
   "metadata": {},
   "outputs": [
    {
     "data": {
      "text/plain": [
       "184"
      ]
     },
     "execution_count": 8,
     "metadata": {},
     "output_type": "execute_result"
    }
   ],
   "source": [
    "# 중복된 data 개수 확인\n",
    "sum_dup = raw_df.Introduction.duplicated().sum()\n",
    "sum_dup"
   ]
  },
  {
   "cell_type": "code",
   "execution_count": 9,
   "metadata": {},
   "outputs": [
    {
     "data": {
      "text/plain": [
       "0"
      ]
     },
     "execution_count": 9,
     "metadata": {},
     "output_type": "execute_result"
    }
   ],
   "source": [
    "# 중복된 data 제거(row)\n",
    "df = raw_df.drop_duplicates(subset=['Introduction'])\n",
    "sum_dup = df.Introduction.duplicated().sum()\n",
    "sum_dup"
   ]
  },
  {
   "cell_type": "code",
   "execution_count": 10,
   "metadata": {},
   "outputs": [
    {
     "name": "stdout",
     "output_type": "stream",
     "text": [
      "after dropna 40986\n"
     ]
    }
   ],
   "source": [
    "print('after dropna', len(df))"
   ]
  },
  {
   "cell_type": "code",
   "execution_count": 11,
   "metadata": {},
   "outputs": [
    {
     "data": {
      "text/html": [
       "<div>\n",
       "<style scoped>\n",
       "    .dataframe tbody tr th:only-of-type {\n",
       "        vertical-align: middle;\n",
       "    }\n",
       "\n",
       "    .dataframe tbody tr th {\n",
       "        vertical-align: top;\n",
       "    }\n",
       "\n",
       "    .dataframe thead th {\n",
       "        text-align: right;\n",
       "    }\n",
       "</style>\n",
       "<table border=\"1\" class=\"dataframe\">\n",
       "  <thead>\n",
       "    <tr style=\"text-align: right;\">\n",
       "      <th></th>\n",
       "      <th>Title</th>\n",
       "      <th>Medium_category</th>\n",
       "      <th>Small_category</th>\n",
       "      <th>Introduction</th>\n",
       "      <th>cnt</th>\n",
       "    </tr>\n",
       "  </thead>\n",
       "  <tbody>\n",
       "    <tr>\n",
       "      <th>0</th>\n",
       "      <td>-10KG 밀가루 단식</td>\n",
       "      <td>가정 살림</td>\n",
       "      <td>요리</td>\n",
       "      <td>내 몸 리셋 다이어트 10kg 밀가루 단식 저자의 100일 밀가루 단식 다이어트 ...</td>\n",
       "      <td>1</td>\n",
       "    </tr>\n",
       "    <tr>\n",
       "      <th>1</th>\n",
       "      <td>디디미니의 초간단 인생맛 고단백 저탄수화물 다이어트 레시피 ...</td>\n",
       "      <td>가정 살림</td>\n",
       "      <td>요리</td>\n",
       "      <td>맛있고 배부른데 살까지 빠지는 다이어트 레시피 끝판왕 101가지 2018년 201...</td>\n",
       "      <td>1</td>\n",
       "    </tr>\n",
       "    <tr>\n",
       "      <th>2</th>\n",
       "      <td>맛있게 쓴 옥주부 레시피 100</td>\n",
       "      <td>가정 살림</td>\n",
       "      <td>요리</td>\n",
       "      <td>옥주부가 매일 자신의 인스타그램에 밥상 메뉴를 올리는 이유는 뭐 먹고 사는지 자랑...</td>\n",
       "      <td>1</td>\n",
       "    </tr>\n",
       "    <tr>\n",
       "      <th>3</th>\n",
       "      <td>세상 쉽고 맛있는 튼이 이유식</td>\n",
       "      <td>가정 살림</td>\n",
       "      <td>요리</td>\n",
       "      <td>쌀가루 큐브 밥솥 칸막이를 활용한 최초의 이유식 책 엄마의 정성과 사랑이 듬뿍 담...</td>\n",
       "      <td>1</td>\n",
       "    </tr>\n",
       "    <tr>\n",
       "      <th>4</th>\n",
       "      <td>맛있게 살 빠지는 고단백 저탄수화물 다이어트 레시피...</td>\n",
       "      <td>가정 살림</td>\n",
       "      <td>요리</td>\n",
       "      <td>다이어트 할 때도 맛있게 먹어야 성공한다 미니는 22kg 엄마는 17kg을 감량하...</td>\n",
       "      <td>1</td>\n",
       "    </tr>\n",
       "    <tr>\n",
       "      <th>...</th>\n",
       "      <td>...</td>\n",
       "      <td>...</td>\n",
       "      <td>...</td>\n",
       "      <td>...</td>\n",
       "      <td>...</td>\n",
       "    </tr>\n",
       "    <tr>\n",
       "      <th>40981</th>\n",
       "      <td>한국인의 초보 사주팔자</td>\n",
       "      <td>인문</td>\n",
       "      <td>명리/주역/풍수</td>\n",
       "      <td>인생 쉽지 않다 생각한 대로 흘러가지 않기 때문이다 지성과 이성으로 내린 선택과 ...</td>\n",
       "      <td>1</td>\n",
       "    </tr>\n",
       "    <tr>\n",
       "      <th>40982</th>\n",
       "      <td>다르게 살고 싶다</td>\n",
       "      <td>인문</td>\n",
       "      <td>명리/주역/풍수</td>\n",
       "      <td>나는 어떤 사람인가 타인의 욕망을 좇는 삶에서 자기 주도적인 삶으로 이 책은 스펙...</td>\n",
       "      <td>1</td>\n",
       "    </tr>\n",
       "    <tr>\n",
       "      <th>40983</th>\n",
       "      <td>주역과 만나다 하</td>\n",
       "      <td>인문</td>\n",
       "      <td>명리/주역/풍수</td>\n",
       "      <td>주역 은 한마디로 변화 의 책이다 변화는 밤하늘을 화려하게 수놓는 일월성신의 규칙...</td>\n",
       "      <td>1</td>\n",
       "    </tr>\n",
       "    <tr>\n",
       "      <th>40984</th>\n",
       "      <td>주역과 만나다 중</td>\n",
       "      <td>인문</td>\n",
       "      <td>명리/주역/풍수</td>\n",
       "      <td>주역 은 하늘과 땅 해와 달 바람과 우레 뫼와 연못이라는 여덟 가지 형상을 우주의...</td>\n",
       "      <td>1</td>\n",
       "    </tr>\n",
       "    <tr>\n",
       "      <th>40985</th>\n",
       "      <td>주역과 만나다 상</td>\n",
       "      <td>인문</td>\n",
       "      <td>명리/주역/풍수</td>\n",
       "      <td>주역 은 소통의 힘을 알려주는 인류가 낳은 지혜의 창고이다 주역 은 문명과 역사에...</td>\n",
       "      <td>1</td>\n",
       "    </tr>\n",
       "  </tbody>\n",
       "</table>\n",
       "<p>40986 rows × 5 columns</p>\n",
       "</div>"
      ],
      "text/plain": [
       "                                                                   Title  \\\n",
       "0                                      -10KG 밀가루 단식                   \n",
       "1      디디미니의 초간단 인생맛 고단백 저탄수화물 다이어트 레시피 ......   \n",
       "2                            맛있게 쓴 옥주부 레시피 100                   \n",
       "3                          세상 쉽고 맛있는 튼이 이유식                    \n",
       "4      맛있게 살 빠지는 고단백 저탄수화물 다이어트 레시피......            \n",
       "...                                                         ...            \n",
       "40981                             한국인의 초보 사주팔자                   \n",
       "40982                                   다르게 살고 싶다                   \n",
       "40983                                 주역과 만나다 하                     \n",
       "40984                                 주역과 만나다 중                     \n",
       "40985                                 주역과 만나다 상                     \n",
       "\n",
       "      Medium_category  Small_category  \\\n",
       "0           가정 살림            요리   \n",
       "1           가정 살림            요리   \n",
       "2           가정 살림            요리   \n",
       "3           가정 살림            요리   \n",
       "4           가정 살림            요리   \n",
       "...               ...             ...   \n",
       "40981            인문  명리/주역/풍수   \n",
       "40982            인문  명리/주역/풍수   \n",
       "40983            인문  명리/주역/풍수   \n",
       "40984            인문  명리/주역/풍수   \n",
       "40985            인문  명리/주역/풍수   \n",
       "\n",
       "                                                                              Introduction  \\\n",
       "0       내 몸 리셋 다이어트 10kg 밀가루 단식 저자의 100일 밀가루 단식 다이어트 ...           \n",
       "1       맛있고 배부른데 살까지 빠지는 다이어트 레시피 끝판왕 101가지 2018년 201...           \n",
       "2       옥주부가 매일 자신의 인스타그램에 밥상 메뉴를 올리는 이유는 뭐 먹고 사는지 자랑...   \n",
       "3       쌀가루 큐브 밥솥 칸막이를 활용한 최초의 이유식 책 엄마의 정성과 사랑이 듬뿍 담...    \n",
       "4       다이어트 할 때도 맛있게 먹어야 성공한다 미니는 22kg 엄마는 17kg을 감량하...          \n",
       "...                                                                             ...          \n",
       "40981   인생 쉽지 않다 생각한 대로 흘러가지 않기 때문이다 지성과 이성으로 내린 선택과 ...    \n",
       "40982   나는 어떤 사람인가 타인의 욕망을 좇는 삶에서 자기 주도적인 삶으로 이 책은 스펙...    \n",
       "40983   주역 은 한마디로 변화 의 책이다 변화는 밤하늘을 화려하게 수놓는 일월성신의 규칙...   \n",
       "40984   주역 은 하늘과 땅 해와 달 바람과 우레 뫼와 연못이라는 여덟 가지 형상을 우주의...     \n",
       "40985   주역 은 소통의 힘을 알려주는 인류가 낳은 지혜의 창고이다 주역 은 문명과 역사에...    \n",
       "\n",
       "       cnt  \n",
       "0        1  \n",
       "1        1  \n",
       "2        1  \n",
       "3        1  \n",
       "4        1  \n",
       "...    ...  \n",
       "40981    1  \n",
       "40982    1  \n",
       "40983    1  \n",
       "40984    1  \n",
       "40985    1  \n",
       "\n",
       "[40986 rows x 5 columns]"
      ]
     },
     "execution_count": 11,
     "metadata": {},
     "output_type": "execute_result"
    }
   ],
   "source": [
    "# 새로운 index 할당\n",
    "df.reset_index(drop=True, inplace=True) # drop=True : 기존 index를 제거\n",
    "df"
   ]
  },
  {
   "cell_type": "code",
   "execution_count": 12,
   "metadata": {},
   "outputs": [
    {
     "data": {
      "text/plain": [
       "Medium_category\n",
       "가정 살림           2494\n",
       "건강 취미           3156\n",
       "경제 경영           3607\n",
       "국어 외국어 사전    2496\n",
       "만화/라이트노벨     5694\n",
       "사회 정치           2858\n",
       "소설/시/희곡        4774\n",
       "수험서 자격증       3716\n",
       "어린이              3806\n",
       "유아                3084\n",
       "인문                2720\n",
       "청소년              2581\n",
       "Name: cnt, dtype: int64"
      ]
     },
     "execution_count": 12,
     "metadata": {},
     "output_type": "execute_result"
    }
   ],
   "source": [
    "Medium_ctg = df['cnt'].groupby(df['Medium_category'])  # 12개의 category\n",
    "Medium_ctg.sum() "
   ]
  },
  {
   "cell_type": "markdown",
   "metadata": {},
   "source": [
    "## Book Introduction Preprocessing"
   ]
  },
  {
   "cell_type": "markdown",
   "metadata": {},
   "source": [
    "## data를 X, Y로 분할"
   ]
  },
  {
   "cell_type": "code",
   "execution_count": 13,
   "metadata": {},
   "outputs": [],
   "source": [
    "X = df['Introduction']\n",
    "Y = df['Medium_category']"
   ]
  },
  {
   "cell_type": "markdown",
   "metadata": {},
   "source": [
    "## Y(label) 처리"
   ]
  },
  {
   "cell_type": "code",
   "execution_count": 14,
   "metadata": {},
   "outputs": [
    {
     "name": "stdout",
     "output_type": "stream",
     "text": [
      "['가정 살림' '건강 취미' '경제 경영' '국어 외국어 사전' '만화/라이트노벨' '사회 정치' '소설/시/희곡'\n",
      " '수험서 자격증' '어린이' '유아' '인문' '청소년']\n",
      "[ 0  0  0 ... 10 10 10]\n"
     ]
    }
   ],
   "source": [
    "# Y값 label Encoding\n",
    "encoder = LabelEncoder()\n",
    "labeled_Y = encoder.fit_transform(Y)\n",
    "label = encoder.classes_\n",
    "print(label)\n",
    "print(labeled_Y)"
   ]
  },
  {
   "cell_type": "code",
   "execution_count": 15,
   "metadata": {},
   "outputs": [],
   "source": [
    "# encoding mapping 정보를 저장\n",
    "with open('/Users/san/work/python/Deep_Learning/LSTM_DNN_PJT/data/category_encoder_12.pickle', 'wb') as f:\n",
    "  pickle.dump(encoder, f)"
   ]
  },
  {
   "cell_type": "code",
   "execution_count": 16,
   "metadata": {},
   "outputs": [
    {
     "name": "stdout",
     "output_type": "stream",
     "text": [
      "[[1. 0. 0. ... 0. 0. 0.]\n",
      " [1. 0. 0. ... 0. 0. 0.]\n",
      " [1. 0. 0. ... 0. 0. 0.]\n",
      " ...\n",
      " [0. 0. 0. ... 0. 1. 0.]\n",
      " [0. 0. 0. ... 0. 1. 0.]\n",
      " [0. 0. 0. ... 0. 1. 0.]]\n"
     ]
    }
   ],
   "source": [
    "# label을 onehot encoding으로 변환\n",
    "onehot_Y = to_categorical(labeled_Y)\n",
    "print(onehot_Y)"
   ]
  },
  {
   "cell_type": "markdown",
   "metadata": {},
   "source": [
    "## X(data) 처리"
   ]
  },
  {
   "cell_type": "markdown",
   "metadata": {},
   "source": [
    "### 형태소 분석"
   ]
  },
  {
   "cell_type": "code",
   "execution_count": 20,
   "metadata": {},
   "outputs": [],
   "source": [
    "tokenizer = Mecab()"
   ]
  },
  {
   "cell_type": "code",
   "execution_count": 30,
   "metadata": {},
   "outputs": [
    {
     "name": "stdout",
     "output_type": "stream",
     "text": [
      "############### pos_test ############### \n",
      " [('형태소', 'NNG'), ('분석', 'NNG'), ('이', 'VCP'), ('란', 'ETM'), ('형태소', 'NNG'), ('를', 'JKO'), ('비롯', 'XR'), ('하', 'XSA'), ('여', 'EC'), (',', 'SC'), ('어근', 'NNG'), (',', 'SC'), ('접두사', 'NNG'), ('/', 'SC'), ('접미사', 'NNG'), (',', 'SC'), ('품사', 'NNG'), ('(', 'SSO'), ('POS', 'SL'), (',', 'SC'), ('part', 'SL'), ('-', 'SY'), ('of', 'SL'), ('-', 'SY'), ('speech', 'SL'), (')', 'SSC'), ('등', 'NNB'), ('다양', 'NNG'), ('한', 'XSA+ETM'), ('언어', 'NNG'), ('적', 'XSN'), ('속성', 'NNG'), ('의', 'JKG'), ('구조', 'NNG'), ('를', 'JKO'), ('파악', 'NNG'), ('하', 'XSV'), ('는', 'ETM'), ('것', 'NNB'), ('입니다', 'VCP+EC')]\n",
      "############### pos_1_test ############### \n",
      " ['형태소', '분석', '이', '란', '형태소', '를', '비롯', '하', '여', ',', '어근', ',', '접두사', '/', '접미사', ',', '품사', '(', 'POS', ',', 'part', '-', 'of', '-', 'speech', ')', '등', '다양', '한', '언어', '적', '속성', '의', '구조', '를', '파악', '하', '는', '것', '입니다']\n",
      "############### noun_test ############### \n",
      " ['형태소', '분석', '형태소', '어근', '접두사', '접미사', '품사', '등', '다양', '언어', '속성', '구조', '파악', '것']\n",
      "############### morphs_test ############### \n",
      " ['형태소', '분석', '이', '란', '형태소', '를', '비롯', '하', '여', ',', '어근', ',', '접두사', '/', '접미사', ',', '품사', '(', 'POS', ',', 'part', '-', 'of', '-', 'speech', ')', '등', '다양', '한', '언어', '적', '속성', '의', '구조', '를', '파악', '하', '는', '것', '입니다']\n"
     ]
    }
   ],
   "source": [
    "text = '형태소 분석 이란 형태소를 비롯하여,\\\n",
    "어근, 접두사/접미사, 품사(POS, part-of-speech) 등\\\n",
    "다양한 언어적 속성의 구조를 파악하는 것입니다'\n",
    "\n",
    "pos_test = tokenizer.pos(text)\n",
    "morphs_test = tokenizer.morphs(text)\n",
    "noun_test = tokenizer.nouns(text)\n",
    "pos_1_test = []\n",
    "for temp in pos_test:\n",
    "    pos_1_test.append(temp[0])\n",
    "    \n",
    "print('#'*15, 'pos_test', '#'*15, '\\n', pos_test)\n",
    "print('#'*15, 'pos_1_test', '#'*15, '\\n', pos_1_test)\n",
    "print('#'*15, 'noun_test', '#'*15, '\\n', noun_test)\n",
    "print('#'*15, 'morphs_test', '#'*15, '\\n', morphs_test)"
   ]
  },
  {
   "cell_type": "code",
   "execution_count": null,
   "metadata": {},
   "outputs": [],
   "source": [
    "tokenizer = Mecab()\n",
    "print('형태소 분석')\n",
    "for i in range(len(X)):\n",
    "    X[i] = tokenizer.noun(X[i])\n",
    "    if (i % 250 == 0) and (i>1):\n",
    "        print('.', end='')\n",
    "    if i % 5000 == 0:\n",
    "        print('{} / {}'.format(i, len(X)))\n",
    "print(X)"
   ]
  },
  {
   "cell_type": "code",
   "execution_count": null,
   "metadata": {},
   "outputs": [],
   "source": [
    "print(X.shape)\n",
    "print(len(X))"
   ]
  },
  {
   "cell_type": "code",
   "execution_count": null,
   "metadata": {},
   "outputs": [],
   "source": [
    "x_len_shape = []\n",
    "for x in X:\n",
    "    x_len_shape.append(len(x))\n",
    "x_len_shape"
   ]
  },
  {
   "cell_type": "code",
   "execution_count": null,
   "metadata": {},
   "outputs": [],
   "source": [
    "test = pd"
   ]
  },
  {
   "cell_type": "code",
   "execution_count": null,
   "metadata": {},
   "outputs": [],
   "source": [
    "for i in range(len(X)):\n",
    "    if len(X[i]) >=2000:\n",
    "        X[i] = X[i][:2000]"
   ]
  },
  {
   "cell_type": "code",
   "execution_count": null,
   "metadata": {},
   "outputs": [],
   "source": [
    "!pwd"
   ]
  },
  {
   "cell_type": "code",
   "execution_count": null,
   "metadata": {},
   "outputs": [],
   "source": [
    "# 형태소 분석 된 X data 저장\n",
    "X.to_csv('../data/cat_12_morphs_X_MeCab_len_3000.csv')"
   ]
  },
  {
   "cell_type": "markdown",
   "metadata": {},
   "source": [
    "### 불용어 제거\n",
    "- 영어, 숫자도 제거할 것인지?"
   ]
  },
  {
   "cell_type": "code",
   "execution_count": null,
   "metadata": {},
   "outputs": [],
   "source": [
    "# 불용어 제거\n",
    "kor_stopwords = pd.read_csv('../data/stopwords.csv')\n",
    "nltk.download('stopwords')\n",
    "eng_stopwords = set(stopwords.words('english'))\n",
    "stopword = list(kor_stopwords['stopword']) + list(eng_stopwords)\n",
    "# 불용어 제거 후 형태소로 이루어진 문장으로 재조합\n",
    "for i in range(len(X)) :\n",
    "    result = []\n",
    "    for j in range(len(X[i])):\n",
    "        if len(X[i][j]) > 1:  # 길이가 한 글자인 것은 지움\n",
    "            if X[i][j] not in stopword:\n",
    "                result.append(X[i][j])\n",
    "#             elif X[i][j] not in list(eng_stopwords):\n",
    "#                 result.append(X[i][j])\n",
    "        \n",
    "    X[i] = ' '.join(result)\n",
    "    if (i % 250 == 0) and (i>1):\n",
    "        print('.', end='')\n",
    "    if i % 5000 == 0:\n",
    "        print('{} / {}'.format(i, len(X)))\n",
    "print(X)"
   ]
  },
  {
   "cell_type": "code",
   "execution_count": null,
   "metadata": {},
   "outputs": [],
   "source": [
    "# 불용어 제거된 X data 저장\n",
    "X.to_csv('../data/cat_12_morphs_X_MeCab_len_3000_stopwords_removed.csv')"
   ]
  },
  {
   "cell_type": "markdown",
   "metadata": {},
   "source": [
    "### 토크나이징"
   ]
  },
  {
   "cell_type": "code",
   "execution_count": null,
   "metadata": {},
   "outputs": [],
   "source": [
    "# tokenizing : 각 형태소에 숫자 label값을 배정\n",
    "token = Tokenizer()\n",
    "token.fit_on_texts(X)  # 형태소에 어떤 숫자를 배정할 것인지\n",
    "tokened_X = token.texts_to_sequences(X)  # 토큰에 저장된 label을 바탕으로 문장(X)을 변환\n",
    "print(tokened_X[0])"
   ]
  },
  {
   "cell_type": "code",
   "execution_count": null,
   "metadata": {},
   "outputs": [],
   "source": [
    "# token 저장\n",
    "# tokened_X.to_csv('./data/tokened_X_3.csv')"
   ]
  },
  {
   "cell_type": "code",
   "execution_count": null,
   "metadata": {},
   "outputs": [],
   "source": [
    "# 데이터 형태 그대로 저장\n",
    "with open('../data/cat_12_MeCab_3000_book_token.pickle', 'wb') as f:\n",
    "  pickle.dump(token, f)"
   ]
  },
  {
   "cell_type": "markdown",
   "metadata": {},
   "source": [
    "## data 확인"
   ]
  },
  {
   "cell_type": "code",
   "execution_count": null,
   "metadata": {
    "tags": []
   },
   "outputs": [],
   "source": [
    "# 형태소 개수 확인\n",
    "wordsize = len(token.word_index) + 1\n",
    "# print('word index : ', token.word_index)\n",
    "print('wordsize is : ', wordsize)  # index 0를 padding 으로 추가 예정\n"
   ]
  },
  {
   "cell_type": "code",
   "execution_count": null,
   "metadata": {},
   "outputs": [],
   "source": [
    "## tokend_X의 아웃라이어 확인하기!!!!!!!\n",
    "tokened_len = []\n",
    "for i in range(len(tokened_X)):\n",
    "    tokened_len.append(len(tokened_X[i]))\n",
    "\n",
    "mean = np.mean(tokened_len)\n",
    "max = int(np.trunc(mean))\n",
    "print(max)"
   ]
  },
  {
   "cell_type": "code",
   "execution_count": null,
   "metadata": {},
   "outputs": [],
   "source": [
    "# # 1. 가장 긴 문장의 길이 확인\n",
    "# max = 0\n",
    "# for i in range(len(tokened_X)):\n",
    "#   if max < len(tokened_X[i]):\n",
    "#       max = len(tokened_X[i])\n",
    "      \n",
    "#       print('max is : ', max) "
   ]
  },
  {
   "cell_type": "code",
   "execution_count": null,
   "metadata": {},
   "outputs": [],
   "source": [
    "# padding\n",
    "X_pad = pad_sequences(tokened_X, max) # 앞쪽을 0으로 채움\n",
    "\n",
    "# X_pad.to_csv('./data/padded_X_4.csv')\n",
    "\n",
    "print(X_pad[:10])"
   ]
  },
  {
   "cell_type": "markdown",
   "metadata": {},
   "source": [
    "## Train, Test set split"
   ]
  },
  {
   "cell_type": "code",
   "execution_count": null,
   "metadata": {},
   "outputs": [],
   "source": [
    "X_train, X_test, Y_train, Y_test = train_test_split(X_pad, onehot_Y, test_size=0.2)\n",
    "print(X_train.shape)\n",
    "print(X_test.shape)\n",
    "print(Y_train.shape)\n",
    "print(Y_test.shape)"
   ]
  },
  {
   "cell_type": "markdown",
   "metadata": {},
   "source": [
    "## Train, Test set 저장"
   ]
  },
  {
   "cell_type": "code",
   "execution_count": null,
   "metadata": {},
   "outputs": [],
   "source": [
    "xy = X_train, X_test, Y_train, Y_test\n",
    "np.save('../data/book_data_max_{}_wordsize_{}'.format(max, wordsize), xy)"
   ]
  },
  {
   "cell_type": "code",
   "execution_count": null,
   "metadata": {},
   "outputs": [],
   "source": []
  },
  {
   "cell_type": "code",
   "execution_count": null,
   "metadata": {},
   "outputs": [],
   "source": []
  }
 ],
 "metadata": {
  "interpreter": {
   "hash": "9b78ea8340faa4f3fedfc3bbd1ba8106b0edcf38f62aea71ab9c2c97ecc54f73"
  },
  "kernelspec": {
   "display_name": "Python 3",
   "language": "python",
   "name": "python3"
  },
  "language_info": {
   "codemirror_mode": {
    "name": "ipython",
    "version": 3
   },
   "file_extension": ".py",
   "mimetype": "text/x-python",
   "name": "python",
   "nbconvert_exporter": "python",
   "pygments_lexer": "ipython3",
   "version": "3.8.6"
  }
 },
 "nbformat": 4,
 "nbformat_minor": 2
}
