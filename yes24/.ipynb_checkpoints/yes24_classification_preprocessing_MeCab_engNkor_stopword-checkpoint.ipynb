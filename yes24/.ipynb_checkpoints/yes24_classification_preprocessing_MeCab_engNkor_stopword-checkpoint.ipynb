{
 "cells": [
  {
   "cell_type": "code",
   "execution_count": 1,
   "metadata": {},
   "outputs": [],
   "source": [
    "import pandas as pd\n",
    "import numpy as np\n",
    "\n",
    "from sklearn.preprocessing import LabelEncoder\n",
    "from tensorflow.keras.utils import to_categorical\n",
    "from sklearn.model_selection import train_test_split\n",
    "from tensorflow.keras.preprocessing.text import *\n",
    "from tensorflow.keras.preprocessing.sequence import pad_sequences\n",
    "# Import mlcompute module to use the optional set_mlc_device API for device selection with ML Compute.\n",
    "from tensorflow.python.compiler.mlcompute import mlcompute\n",
    "from konlpy.tag import Mecab\n",
    "import pickle"
   ]
  },
  {
   "cell_type": "code",
   "execution_count": 2,
   "metadata": {},
   "outputs": [
    {
     "name": "stdout",
     "output_type": "stream",
     "text": [
      "WARNING:tensorflow:Eager mode uses the CPU. Switching to the CPU.\n"
     ]
    }
   ],
   "source": [
    "pd.set_option('display.unicode.east_asian_width', True)\n",
    "\n",
    "# Select GPU device.\n",
    "mlcompute.set_mlc_device(device_name='gpu') # Available options are 'cpu', 'gpu', and ‘any'."
   ]
  },
  {
   "cell_type": "code",
   "execution_count": 3,
   "metadata": {},
   "outputs": [
    {
     "data": {
      "text/html": [
       "<div>\n",
       "<style scoped>\n",
       "    .dataframe tbody tr th:only-of-type {\n",
       "        vertical-align: middle;\n",
       "    }\n",
       "\n",
       "    .dataframe tbody tr th {\n",
       "        vertical-align: top;\n",
       "    }\n",
       "\n",
       "    .dataframe thead th {\n",
       "        text-align: right;\n",
       "    }\n",
       "</style>\n",
       "<table border=\"1\" class=\"dataframe\">\n",
       "  <thead>\n",
       "    <tr style=\"text-align: right;\">\n",
       "      <th></th>\n",
       "      <th>Title</th>\n",
       "      <th>Medium_category</th>\n",
       "      <th>Small_category</th>\n",
       "      <th>Introduction</th>\n",
       "      <th>cnt</th>\n",
       "    </tr>\n",
       "  </thead>\n",
       "  <tbody>\n",
       "    <tr>\n",
       "      <th>1</th>\n",
       "      <td>-10KG 밀가루 단식</td>\n",
       "      <td>가정 살림</td>\n",
       "      <td>요리</td>\n",
       "      <td>내 몸 리셋 다이어트 10kg 밀가루 단식 저자의 100일 밀가루 단식 다이어...</td>\n",
       "      <td>1</td>\n",
       "    </tr>\n",
       "    <tr>\n",
       "      <th>2</th>\n",
       "      <td>디디미니의 초간단 인생맛 고단백 저탄수화물 다이어트 레시피 ...</td>\n",
       "      <td>가정 살림</td>\n",
       "      <td>요리</td>\n",
       "      <td>맛있고 배부른데 살까지 빠지는 다이어트 레시피 끝판왕 101가지   2018년...</td>\n",
       "      <td>1</td>\n",
       "    </tr>\n",
       "    <tr>\n",
       "      <th>3</th>\n",
       "      <td>맛있게 쓴 옥주부 레시피 100</td>\n",
       "      <td>가정 살림</td>\n",
       "      <td>요리</td>\n",
       "      <td>옥주부가 매일 자신의 인스타그램에 밥상 메뉴를 올리는 이유는 뭐 먹고 사는지 ...</td>\n",
       "      <td>1</td>\n",
       "    </tr>\n",
       "    <tr>\n",
       "      <th>4</th>\n",
       "      <td>세상 쉽고 맛있는 튼이 이유식</td>\n",
       "      <td>가정 살림</td>\n",
       "      <td>요리</td>\n",
       "      <td>쌀가루  큐브  밥솥 칸막이를 활용한 최초의 이유식 책   엄마의 정성과 사랑...</td>\n",
       "      <td>1</td>\n",
       "    </tr>\n",
       "    <tr>\n",
       "      <th>5</th>\n",
       "      <td>맛있게 살 빠지는 고단백 저탄수화물 다이어트 레시피...</td>\n",
       "      <td>가정 살림</td>\n",
       "      <td>요리</td>\n",
       "      <td>다이어트 할 때도 맛있게 먹어야 성공한다 미니는 22kg  엄마는 17kg을 ...</td>\n",
       "      <td>1</td>\n",
       "    </tr>\n",
       "    <tr>\n",
       "      <th>6</th>\n",
       "      <td>임지호의 밥 땅으로부터</td>\n",
       "      <td>가정 살림</td>\n",
       "      <td>요리</td>\n",
       "      <td>면역력이 시대의 슬로건이 된 이때 모두에게 추천하는 임지호의 들풀밥상    ...</td>\n",
       "      <td>1</td>\n",
       "    </tr>\n",
       "    <tr>\n",
       "      <th>7</th>\n",
       "      <td>유아식 레시피북</td>\n",
       "      <td>가정 살림</td>\n",
       "      <td>요리</td>\n",
       "      <td>아이가 잘 안 먹는 것은 엄마 잘못이 아니에요    돌부터 요리를 시작하는 ...</td>\n",
       "      <td>1</td>\n",
       "    </tr>\n",
       "    <tr>\n",
       "      <th>8</th>\n",
       "      <td>와인이 있는 100가지 장면</td>\n",
       "      <td>가정 살림</td>\n",
       "      <td>요리</td>\n",
       "      <td>라라랜드 에서 미아가 꿈속에서 마시는 와인은 뭘까   아이언맨 의 토니 스타...</td>\n",
       "      <td>1</td>\n",
       "    </tr>\n",
       "    <tr>\n",
       "      <th>9</th>\n",
       "      <td>백종원이 추천하는 집밥 메뉴 애장판</td>\n",
       "      <td>가정 살림</td>\n",
       "      <td>요리</td>\n",
       "      <td>국민 요리책   백종원이 추천하는 집밥 메뉴  시리즈 합본 한정판 1 4탄 백...</td>\n",
       "      <td>1</td>\n",
       "    </tr>\n",
       "    <tr>\n",
       "      <th>10</th>\n",
       "      <td>[예스리커버] 매직 레시피</td>\n",
       "      <td>가정 살림</td>\n",
       "      <td>요리</td>\n",
       "      <td>난생처음 요리하는 당신이라도 전문점 맛 그대로      YouTube 요리 ...</td>\n",
       "      <td>1</td>\n",
       "    </tr>\n",
       "  </tbody>\n",
       "</table>\n",
       "</div>"
      ],
      "text/plain": [
       "                                                                Title  \\\n",
       "1                                   -10KG 밀가루 단식                   \n",
       "2   디디미니의 초간단 인생맛 고단백 저탄수화물 다이어트 레시피 ......   \n",
       "3                         맛있게 쓴 옥주부 레시피 100                   \n",
       "4                       세상 쉽고 맛있는 튼이 이유식                    \n",
       "5   맛있게 살 빠지는 고단백 저탄수화물 다이어트 레시피......            \n",
       "6                              임지호의 밥 땅으로부터                   \n",
       "7                                     유아식 레시피북                   \n",
       "8                            와인이 있는 100가지 장면                   \n",
       "9                  백종원이 추천하는 집밥 메뉴 애장판                   \n",
       "10                           [예스리커버] 매직 레시피                   \n",
       "\n",
       "   Medium_category Small_category  \\\n",
       "1        가정 살림           요리   \n",
       "2        가정 살림           요리   \n",
       "3        가정 살림           요리   \n",
       "4        가정 살림           요리   \n",
       "5        가정 살림           요리   \n",
       "6        가정 살림           요리   \n",
       "7        가정 살림           요리   \n",
       "8        가정 살림           요리   \n",
       "9        가정 살림           요리   \n",
       "10       가정 살림           요리   \n",
       "\n",
       "                                                                         Introduction  \\\n",
       "1      내 몸 리셋 다이어트 10kg 밀가루 단식 저자의 100일 밀가루 단식 다이어...          \n",
       "2      맛있고 배부른데 살까지 빠지는 다이어트 레시피 끝판왕 101가지   2018년...         \n",
       "3      옥주부가 매일 자신의 인스타그램에 밥상 메뉴를 올리는 이유는 뭐 먹고 사는지 ...   \n",
       "4      쌀가루  큐브  밥솥 칸막이를 활용한 최초의 이유식 책   엄마의 정성과 사랑...      \n",
       "5      다이어트 할 때도 맛있게 먹어야 성공한다 미니는 22kg  엄마는 17kg을 ...           \n",
       "6       면역력이 시대의 슬로건이 된 이때 모두에게 추천하는 임지호의 들풀밥상    ...     \n",
       "7       아이가 잘 안 먹는 것은 엄마 잘못이 아니에요    돌부터 요리를 시작하는 ...       \n",
       "8       라라랜드 에서 미아가 꿈속에서 마시는 와인은 뭘까   아이언맨 의 토니 스타...     \n",
       "9      국민 요리책   백종원이 추천하는 집밥 메뉴  시리즈 합본 한정판 1 4탄 백...        \n",
       "10      난생처음 요리하는 당신이라도 전문점 맛 그대로      YouTube 요리 ...             \n",
       "\n",
       "    cnt  \n",
       "1     1  \n",
       "2     1  \n",
       "3     1  \n",
       "4     1  \n",
       "5     1  \n",
       "6     1  \n",
       "7     1  \n",
       "8     1  \n",
       "9     1  \n",
       "10    1  "
      ]
     },
     "execution_count": 3,
     "metadata": {},
     "output_type": "execute_result"
    }
   ],
   "source": [
    "raw_df = pd.read_csv('/Users/san/work/python/Deep_Learning/LSTM_DNN_PJT/data/raw_data.csv', index_col=0)\n",
    "raw_df.head(10)"
   ]
  },
  {
   "cell_type": "code",
   "execution_count": 4,
   "metadata": {},
   "outputs": [
    {
     "name": "stdout",
     "output_type": "stream",
     "text": [
      "initial: 41170\n"
     ]
    }
   ],
   "source": [
    "print('initial:', len(raw_df))"
   ]
  },
  {
   "cell_type": "markdown",
   "metadata": {},
   "source": [
    "## data 공백 처리"
   ]
  },
  {
   "cell_type": "code",
   "execution_count": 5,
   "metadata": {},
   "outputs": [],
   "source": [
    "for i in range(len(raw_df)):\n",
    "    for j in range(5, 1, -1):\n",
    "        raw_df.iloc[i,3] = raw_df.iloc[i,3].replace(' '*j,  ' ')"
   ]
  },
  {
   "cell_type": "code",
   "execution_count": 6,
   "metadata": {},
   "outputs": [
    {
     "name": "stdout",
     "output_type": "stream",
     "text": [
      "after gap-healing: 41170\n"
     ]
    }
   ],
   "source": [
    "print('after gap-healing:', len(raw_df))"
   ]
  },
  {
   "cell_type": "markdown",
   "metadata": {},
   "source": [
    "## data 중복 제거"
   ]
  },
  {
   "cell_type": "code",
   "execution_count": 7,
   "metadata": {},
   "outputs": [],
   "source": [
    "# null값 확인\n",
    "# raw_df['Introduction'].isnull().values.any()"
   ]
  },
  {
   "cell_type": "code",
   "execution_count": 8,
   "metadata": {},
   "outputs": [
    {
     "data": {
      "text/plain": [
       "184"
      ]
     },
     "execution_count": 8,
     "metadata": {},
     "output_type": "execute_result"
    }
   ],
   "source": [
    "# 중복된 data 개수 확인\n",
    "sum_dup = raw_df.Introduction.duplicated().sum()\n",
    "sum_dup"
   ]
  },
  {
   "cell_type": "code",
   "execution_count": 9,
   "metadata": {},
   "outputs": [
    {
     "data": {
      "text/plain": [
       "0"
      ]
     },
     "execution_count": 9,
     "metadata": {},
     "output_type": "execute_result"
    }
   ],
   "source": [
    "# 중복된 data 제거(row)\n",
    "df = raw_df.drop_duplicates(subset=['Introduction'])\n",
    "sum_dup = df.Introduction.duplicated().sum()\n",
    "sum_dup"
   ]
  },
  {
   "cell_type": "code",
   "execution_count": 10,
   "metadata": {},
   "outputs": [
    {
     "name": "stdout",
     "output_type": "stream",
     "text": [
      "after dropna 40986\n"
     ]
    }
   ],
   "source": [
    "print('after dropna', len(df))"
   ]
  },
  {
   "cell_type": "code",
   "execution_count": 11,
   "metadata": {},
   "outputs": [
    {
     "data": {
      "text/html": [
       "<div>\n",
       "<style scoped>\n",
       "    .dataframe tbody tr th:only-of-type {\n",
       "        vertical-align: middle;\n",
       "    }\n",
       "\n",
       "    .dataframe tbody tr th {\n",
       "        vertical-align: top;\n",
       "    }\n",
       "\n",
       "    .dataframe thead th {\n",
       "        text-align: right;\n",
       "    }\n",
       "</style>\n",
       "<table border=\"1\" class=\"dataframe\">\n",
       "  <thead>\n",
       "    <tr style=\"text-align: right;\">\n",
       "      <th></th>\n",
       "      <th>Title</th>\n",
       "      <th>Medium_category</th>\n",
       "      <th>Small_category</th>\n",
       "      <th>Introduction</th>\n",
       "      <th>cnt</th>\n",
       "    </tr>\n",
       "  </thead>\n",
       "  <tbody>\n",
       "    <tr>\n",
       "      <th>0</th>\n",
       "      <td>-10KG 밀가루 단식</td>\n",
       "      <td>가정 살림</td>\n",
       "      <td>요리</td>\n",
       "      <td>내 몸 리셋 다이어트 10kg 밀가루 단식 저자의 100일 밀가루 단식 다이어트 ...</td>\n",
       "      <td>1</td>\n",
       "    </tr>\n",
       "    <tr>\n",
       "      <th>1</th>\n",
       "      <td>디디미니의 초간단 인생맛 고단백 저탄수화물 다이어트 레시피 ...</td>\n",
       "      <td>가정 살림</td>\n",
       "      <td>요리</td>\n",
       "      <td>맛있고 배부른데 살까지 빠지는 다이어트 레시피 끝판왕 101가지 2018년 201...</td>\n",
       "      <td>1</td>\n",
       "    </tr>\n",
       "    <tr>\n",
       "      <th>2</th>\n",
       "      <td>맛있게 쓴 옥주부 레시피 100</td>\n",
       "      <td>가정 살림</td>\n",
       "      <td>요리</td>\n",
       "      <td>옥주부가 매일 자신의 인스타그램에 밥상 메뉴를 올리는 이유는 뭐 먹고 사는지 자랑...</td>\n",
       "      <td>1</td>\n",
       "    </tr>\n",
       "    <tr>\n",
       "      <th>3</th>\n",
       "      <td>세상 쉽고 맛있는 튼이 이유식</td>\n",
       "      <td>가정 살림</td>\n",
       "      <td>요리</td>\n",
       "      <td>쌀가루 큐브 밥솥 칸막이를 활용한 최초의 이유식 책 엄마의 정성과 사랑이 듬뿍 담...</td>\n",
       "      <td>1</td>\n",
       "    </tr>\n",
       "    <tr>\n",
       "      <th>4</th>\n",
       "      <td>맛있게 살 빠지는 고단백 저탄수화물 다이어트 레시피...</td>\n",
       "      <td>가정 살림</td>\n",
       "      <td>요리</td>\n",
       "      <td>다이어트 할 때도 맛있게 먹어야 성공한다 미니는 22kg 엄마는 17kg을 감량하...</td>\n",
       "      <td>1</td>\n",
       "    </tr>\n",
       "    <tr>\n",
       "      <th>...</th>\n",
       "      <td>...</td>\n",
       "      <td>...</td>\n",
       "      <td>...</td>\n",
       "      <td>...</td>\n",
       "      <td>...</td>\n",
       "    </tr>\n",
       "    <tr>\n",
       "      <th>40981</th>\n",
       "      <td>한국인의 초보 사주팔자</td>\n",
       "      <td>인문</td>\n",
       "      <td>명리/주역/풍수</td>\n",
       "      <td>인생 쉽지 않다 생각한 대로 흘러가지 않기 때문이다 지성과 이성으로 내린 선택과 ...</td>\n",
       "      <td>1</td>\n",
       "    </tr>\n",
       "    <tr>\n",
       "      <th>40982</th>\n",
       "      <td>다르게 살고 싶다</td>\n",
       "      <td>인문</td>\n",
       "      <td>명리/주역/풍수</td>\n",
       "      <td>나는 어떤 사람인가 타인의 욕망을 좇는 삶에서 자기 주도적인 삶으로 이 책은 스펙...</td>\n",
       "      <td>1</td>\n",
       "    </tr>\n",
       "    <tr>\n",
       "      <th>40983</th>\n",
       "      <td>주역과 만나다 하</td>\n",
       "      <td>인문</td>\n",
       "      <td>명리/주역/풍수</td>\n",
       "      <td>주역 은 한마디로 변화 의 책이다 변화는 밤하늘을 화려하게 수놓는 일월성신의 규칙...</td>\n",
       "      <td>1</td>\n",
       "    </tr>\n",
       "    <tr>\n",
       "      <th>40984</th>\n",
       "      <td>주역과 만나다 중</td>\n",
       "      <td>인문</td>\n",
       "      <td>명리/주역/풍수</td>\n",
       "      <td>주역 은 하늘과 땅 해와 달 바람과 우레 뫼와 연못이라는 여덟 가지 형상을 우주의...</td>\n",
       "      <td>1</td>\n",
       "    </tr>\n",
       "    <tr>\n",
       "      <th>40985</th>\n",
       "      <td>주역과 만나다 상</td>\n",
       "      <td>인문</td>\n",
       "      <td>명리/주역/풍수</td>\n",
       "      <td>주역 은 소통의 힘을 알려주는 인류가 낳은 지혜의 창고이다 주역 은 문명과 역사에...</td>\n",
       "      <td>1</td>\n",
       "    </tr>\n",
       "  </tbody>\n",
       "</table>\n",
       "<p>40986 rows × 5 columns</p>\n",
       "</div>"
      ],
      "text/plain": [
       "                                                                   Title  \\\n",
       "0                                      -10KG 밀가루 단식                   \n",
       "1      디디미니의 초간단 인생맛 고단백 저탄수화물 다이어트 레시피 ......   \n",
       "2                            맛있게 쓴 옥주부 레시피 100                   \n",
       "3                          세상 쉽고 맛있는 튼이 이유식                    \n",
       "4      맛있게 살 빠지는 고단백 저탄수화물 다이어트 레시피......            \n",
       "...                                                         ...            \n",
       "40981                             한국인의 초보 사주팔자                   \n",
       "40982                                   다르게 살고 싶다                   \n",
       "40983                                 주역과 만나다 하                     \n",
       "40984                                 주역과 만나다 중                     \n",
       "40985                                 주역과 만나다 상                     \n",
       "\n",
       "      Medium_category  Small_category  \\\n",
       "0           가정 살림            요리   \n",
       "1           가정 살림            요리   \n",
       "2           가정 살림            요리   \n",
       "3           가정 살림            요리   \n",
       "4           가정 살림            요리   \n",
       "...               ...             ...   \n",
       "40981            인문  명리/주역/풍수   \n",
       "40982            인문  명리/주역/풍수   \n",
       "40983            인문  명리/주역/풍수   \n",
       "40984            인문  명리/주역/풍수   \n",
       "40985            인문  명리/주역/풍수   \n",
       "\n",
       "                                                                              Introduction  \\\n",
       "0       내 몸 리셋 다이어트 10kg 밀가루 단식 저자의 100일 밀가루 단식 다이어트 ...           \n",
       "1       맛있고 배부른데 살까지 빠지는 다이어트 레시피 끝판왕 101가지 2018년 201...           \n",
       "2       옥주부가 매일 자신의 인스타그램에 밥상 메뉴를 올리는 이유는 뭐 먹고 사는지 자랑...   \n",
       "3       쌀가루 큐브 밥솥 칸막이를 활용한 최초의 이유식 책 엄마의 정성과 사랑이 듬뿍 담...    \n",
       "4       다이어트 할 때도 맛있게 먹어야 성공한다 미니는 22kg 엄마는 17kg을 감량하...          \n",
       "...                                                                             ...          \n",
       "40981   인생 쉽지 않다 생각한 대로 흘러가지 않기 때문이다 지성과 이성으로 내린 선택과 ...    \n",
       "40982   나는 어떤 사람인가 타인의 욕망을 좇는 삶에서 자기 주도적인 삶으로 이 책은 스펙...    \n",
       "40983   주역 은 한마디로 변화 의 책이다 변화는 밤하늘을 화려하게 수놓는 일월성신의 규칙...   \n",
       "40984   주역 은 하늘과 땅 해와 달 바람과 우레 뫼와 연못이라는 여덟 가지 형상을 우주의...     \n",
       "40985   주역 은 소통의 힘을 알려주는 인류가 낳은 지혜의 창고이다 주역 은 문명과 역사에...    \n",
       "\n",
       "       cnt  \n",
       "0        1  \n",
       "1        1  \n",
       "2        1  \n",
       "3        1  \n",
       "4        1  \n",
       "...    ...  \n",
       "40981    1  \n",
       "40982    1  \n",
       "40983    1  \n",
       "40984    1  \n",
       "40985    1  \n",
       "\n",
       "[40986 rows x 5 columns]"
      ]
     },
     "execution_count": 11,
     "metadata": {},
     "output_type": "execute_result"
    }
   ],
   "source": [
    "# 새로운 index 할당\n",
    "df.reset_index(drop=True, inplace=True) # drop=True : 기존 index를 제거\n",
    "df"
   ]
  },
  {
   "cell_type": "code",
   "execution_count": 12,
   "metadata": {},
   "outputs": [
    {
     "data": {
      "text/plain": [
       "Medium_category\n",
       "가정 살림           2494\n",
       "건강 취미           3156\n",
       "경제 경영           3607\n",
       "국어 외국어 사전    2496\n",
       "만화/라이트노벨     5694\n",
       "사회 정치           2858\n",
       "소설/시/희곡        4774\n",
       "수험서 자격증       3716\n",
       "어린이              3806\n",
       "유아                3084\n",
       "인문                2720\n",
       "청소년              2581\n",
       "Name: cnt, dtype: int64"
      ]
     },
     "execution_count": 12,
     "metadata": {},
     "output_type": "execute_result"
    }
   ],
   "source": [
    "Medium_ctg = df['cnt'].groupby(df['Medium_category'])  # 12개의 category\n",
    "Medium_ctg.sum() "
   ]
  },
  {
   "cell_type": "markdown",
   "metadata": {},
   "source": [
    "## category 병합"
   ]
  },
  {
   "cell_type": "code",
   "execution_count": 13,
   "metadata": {},
   "outputs": [
    {
     "data": {
      "text/plain": [
       "['Title', 'Medium_category', 'Small_category', 'Introduction', 'cnt']"
      ]
     },
     "execution_count": 13,
     "metadata": {},
     "output_type": "execute_result"
    }
   ],
   "source": [
    "columns = list(df.columns)\n",
    "columns"
   ]
  },
  {
   "cell_type": "code",
   "execution_count": 14,
   "metadata": {},
   "outputs": [
    {
     "data": {
      "text/plain": [
       "40986"
      ]
     },
     "execution_count": 14,
     "metadata": {},
     "output_type": "execute_result"
    }
   ],
   "source": [
    "len(df)"
   ]
  },
  {
   "cell_type": "code",
   "execution_count": 15,
   "metadata": {
    "tags": []
   },
   "outputs": [
    {
     "name": "stderr",
     "output_type": "stream",
     "text": [
      "<ipython-input-15-1e6e02433b0e>:1: SettingWithCopyWarning: \n",
      "A value is trying to be set on a copy of a slice from a DataFrame.\n",
      "Try using .loc[row_indexer,col_indexer] = value instead\n",
      "\n",
      "See the caveats in the documentation: https://pandas.pydata.org/pandas-docs/stable/user_guide/indexing.html#returning-a-view-versus-a-copy\n",
      "  df['Large_category'] = 0\n",
      "/Users/san/miniforge3/envs/AI86/lib/python3.8/site-packages/pandas/core/indexing.py:1720: SettingWithCopyWarning: \n",
      "A value is trying to be set on a copy of a slice from a DataFrame.\n",
      "Try using .loc[row_indexer,col_indexer] = value instead\n",
      "\n",
      "See the caveats in the documentation: https://pandas.pydata.org/pandas-docs/stable/user_guide/indexing.html#returning-a-view-versus-a-copy\n",
      "  self._setitem_single_column(loc, value, pi)\n"
     ]
    }
   ],
   "source": [
    "df['Large_category'] = 0\n",
    "\n",
    "df.loc[(df['Medium_category'] == '가정 살림') | (df['Medium_category'] == '건강 취미'), 'Large_category'] = '가정/건강'\n",
    "df.loc[(df['Medium_category'] == '인문') | (df['Medium_category'] == '사회 정치') | (df['Medium_category'] == '경제 경영'), 'Large_category'] = '인문/사회/경영'\n",
    "df.loc[(df['Medium_category'] == '국어 외국어 사전') | (df['Medium_category'] == '수험서 자격증'), 'Large_category'] = '사전/자격증'\n",
    "df.loc[(df['Medium_category'] == '만화/라이트노벨'), 'Large_category'] = '만화'\n",
    "df.loc[(df['Medium_category'] == '소설/시/희곡'), 'Large_category'] = '소설/시/희곡'\n",
    "df.loc[(df['Medium_category'] == '어린이') | (df['Medium_category'] == '유아') | (df['Medium_category'] == '청소년'), 'Large_category'] = '어린이/청소년'\n"
   ]
  },
  {
   "cell_type": "code",
   "execution_count": 16,
   "metadata": {},
   "outputs": [
    {
     "data": {
      "text/plain": [
       "Large_category\n",
       "가정/건강         5650\n",
       "만화              5694\n",
       "사전/자격증       6212\n",
       "소설/시/희곡      4774\n",
       "어린이/청소년     9471\n",
       "인문/사회/경영    9185\n",
       "Name: cnt, dtype: int64"
      ]
     },
     "execution_count": 16,
     "metadata": {},
     "output_type": "execute_result"
    }
   ],
   "source": [
    "Large_ctg = df['cnt'].groupby(df['Large_category'])  # 6개의 category\n",
    "Large_ctg.sum() "
   ]
  },
  {
   "cell_type": "markdown",
   "metadata": {},
   "source": [
    "## Book Introduction Preprocessing"
   ]
  },
  {
   "cell_type": "markdown",
   "metadata": {},
   "source": [
    "## data를 X, Y로 분할"
   ]
  },
  {
   "cell_type": "code",
   "execution_count": 18,
   "metadata": {},
   "outputs": [],
   "source": [
    "X = df['Introduction']\n",
    "Y = df['Large_category']"
   ]
  },
  {
   "cell_type": "markdown",
   "metadata": {},
   "source": [
    "## Y(label) 처리"
   ]
  },
  {
   "cell_type": "code",
   "execution_count": 19,
   "metadata": {},
   "outputs": [
    {
     "name": "stdout",
     "output_type": "stream",
     "text": [
      "['가정/건강' '만화' '사전/자격증' '소설/시/희곡' '어린이/청소년' '인문/사회/경영']\n",
      "[0 0 0 ... 5 5 5]\n"
     ]
    }
   ],
   "source": [
    "# Y값 label Encoding\n",
    "encoder = LabelEncoder()\n",
    "labeled_Y = encoder.fit_transform(Y)\n",
    "label = encoder.classes_\n",
    "print(label)\n",
    "print(labeled_Y)"
   ]
  },
  {
   "cell_type": "code",
   "execution_count": 20,
   "metadata": {},
   "outputs": [],
   "source": [
    "# encoding mapping 정보를 저장\n",
    "with open('/Users/san/work/python/Deep_Learning/LSTM_DNN_PJT/data/category_encoder.pickle', 'wb') as f:\n",
    "  pickle.dump(encoder, f)"
   ]
  },
  {
   "cell_type": "code",
   "execution_count": 22,
   "metadata": {},
   "outputs": [
    {
     "name": "stdout",
     "output_type": "stream",
     "text": [
      "[[1. 0. 0. 0. 0. 0.]\n",
      " [1. 0. 0. 0. 0. 0.]\n",
      " [1. 0. 0. 0. 0. 0.]\n",
      " ...\n",
      " [0. 0. 0. 0. 0. 1.]\n",
      " [0. 0. 0. 0. 0. 1.]\n",
      " [0. 0. 0. 0. 0. 1.]]\n"
     ]
    }
   ],
   "source": [
    "# label을 onehot encoding으로 변환\n",
    "onehot_Y = to_categorical(labeled_Y)\n",
    "print(onehot_Y)"
   ]
  },
  {
   "cell_type": "markdown",
   "metadata": {},
   "source": [
    "## X(data) 처리"
   ]
  },
  {
   "cell_type": "markdown",
   "metadata": {},
   "source": [
    "### 형태소 분석"
   ]
  },
  {
   "cell_type": "code",
   "execution_count": 25,
   "metadata": {},
   "outputs": [
    {
     "ename": "AttributeError",
     "evalue": "module 'MeCab' has no attribute 'Morphs'",
     "output_type": "error",
     "traceback": [
      "\u001b[0;31m------------------------------------------------------\u001b[0m",
      "\u001b[0;31mAttributeError\u001b[0m       Traceback (most recent call last)",
      "\u001b[0;32m<ipython-input-25-0729738f467d>\u001b[0m in \u001b[0;36m<module>\u001b[0;34m\u001b[0m\n\u001b[1;32m      1\u001b[0m \u001b[0;32mimport\u001b[0m \u001b[0mMeCab\u001b[0m \u001b[0;32mas\u001b[0m \u001b[0mmc\u001b[0m\u001b[0;34m\u001b[0m\u001b[0;34m\u001b[0m\u001b[0m\n\u001b[0;32m----> 2\u001b[0;31m \u001b[0mm\u001b[0m \u001b[0;34m=\u001b[0m \u001b[0mmc\u001b[0m\u001b[0;34m.\u001b[0m\u001b[0mMorphs\u001b[0m\u001b[0;34m(\u001b[0m\u001b[0;34m)\u001b[0m\u001b[0;34m\u001b[0m\u001b[0;34m\u001b[0m\u001b[0m\n\u001b[0m\u001b[1;32m      3\u001b[0m \u001b[0mte\u001b[0m \u001b[0;34m=\u001b[0m \u001b[0mm\u001b[0m\u001b[0;34m.\u001b[0m\u001b[0mparse\u001b[0m\u001b[0;34m(\u001b[0m\u001b[0;34m'이제 번개맨이 왔으니 안심하라구!'\u001b[0m\u001b[0;34m)\u001b[0m\u001b[0;34m\u001b[0m\u001b[0;34m\u001b[0m\u001b[0m\n\u001b[1;32m      4\u001b[0m \u001b[0mprint\u001b[0m\u001b[0;34m(\u001b[0m\u001b[0mte\u001b[0m\u001b[0;34m)\u001b[0m\u001b[0;34m\u001b[0m\u001b[0;34m\u001b[0m\u001b[0m\n",
      "\u001b[0;31mAttributeError\u001b[0m: module 'MeCab' has no attribute 'Morphs'"
     ]
    }
   ],
   "source": [
    "tokenizer = Mecab()\n",
    "print(tokenizer.morphs('아버지가방에들어가신다'))"
   ]
  },
  {
   "cell_type": "code",
   "execution_count": 23,
   "metadata": {},
   "outputs": [
    {
     "ename": "JVMNotFoundException",
     "evalue": "No JVM shared library file (libjli.dylib) found. Try setting up the JAVA_HOME environment variable properly.",
     "output_type": "error",
     "traceback": [
      "\u001b[0;31m------------------------------------------------------\u001b[0m",
      "\u001b[0;31mJVMNotFoundException\u001b[0m Traceback (most recent call last)",
      "\u001b[0;32m<ipython-input-23-d21441ae03c1>\u001b[0m in \u001b[0;36m<module>\u001b[0;34m\u001b[0m\n\u001b[1;32m      1\u001b[0m \u001b[0;31m# 형태소 분석 okt test\u001b[0m\u001b[0;34m\u001b[0m\u001b[0;34m\u001b[0m\u001b[0;34m\u001b[0m\u001b[0m\n\u001b[0;32m----> 2\u001b[0;31m \u001b[0mokt\u001b[0m \u001b[0;34m=\u001b[0m \u001b[0mOkt\u001b[0m\u001b[0;34m(\u001b[0m\u001b[0;34m)\u001b[0m\u001b[0;34m\u001b[0m\u001b[0;34m\u001b[0m\u001b[0m\n\u001b[0m\u001b[1;32m      3\u001b[0m \u001b[0mprint\u001b[0m\u001b[0;34m(\u001b[0m\u001b[0;34m'형태소 분석'\u001b[0m\u001b[0;34m)\u001b[0m\u001b[0;34m\u001b[0m\u001b[0;34m\u001b[0m\u001b[0m\n\u001b[1;32m      4\u001b[0m \u001b[0mprint\u001b[0m\u001b[0;34m(\u001b[0m\u001b[0;34m'target :'\u001b[0m\u001b[0;34m,\u001b[0m \u001b[0mX\u001b[0m\u001b[0;34m[\u001b[0m\u001b[0;36m0\u001b[0m\u001b[0;34m]\u001b[0m\u001b[0;34m)\u001b[0m\u001b[0;34m\u001b[0m\u001b[0;34m\u001b[0m\u001b[0m\n\u001b[1;32m      5\u001b[0m \u001b[0mtest\u001b[0m \u001b[0;34m=\u001b[0m \u001b[0mokt\u001b[0m\u001b[0;34m.\u001b[0m\u001b[0mmorphs\u001b[0m\u001b[0;34m(\u001b[0m\u001b[0mX\u001b[0m\u001b[0;34m[\u001b[0m\u001b[0;36m0\u001b[0m\u001b[0;34m]\u001b[0m\u001b[0;34m)\u001b[0m\u001b[0;34m\u001b[0m\u001b[0;34m\u001b[0m\u001b[0m\n",
      "\u001b[0;32m~/miniforge3/envs/AI86/lib/python3.8/site-packages/konlpy/tag/_okt.py\u001b[0m in \u001b[0;36m__init__\u001b[0;34m(self, jvmpath, max_heap_size)\u001b[0m\n\u001b[1;32m     89\u001b[0m     \u001b[0;32mdef\u001b[0m \u001b[0m__init__\u001b[0m\u001b[0;34m(\u001b[0m\u001b[0mself\u001b[0m\u001b[0;34m,\u001b[0m \u001b[0mjvmpath\u001b[0m\u001b[0;34m=\u001b[0m\u001b[0;32mNone\u001b[0m\u001b[0;34m,\u001b[0m \u001b[0mmax_heap_size\u001b[0m\u001b[0;34m=\u001b[0m\u001b[0;36m1024\u001b[0m\u001b[0;34m)\u001b[0m\u001b[0;34m:\u001b[0m\u001b[0;34m\u001b[0m\u001b[0;34m\u001b[0m\u001b[0m\n\u001b[1;32m     90\u001b[0m         \u001b[0;32mif\u001b[0m \u001b[0;32mnot\u001b[0m \u001b[0mjpype\u001b[0m\u001b[0;34m.\u001b[0m\u001b[0misJVMStarted\u001b[0m\u001b[0;34m(\u001b[0m\u001b[0;34m)\u001b[0m\u001b[0;34m:\u001b[0m\u001b[0;34m\u001b[0m\u001b[0;34m\u001b[0m\u001b[0m\n\u001b[0;32m---> 91\u001b[0;31m             \u001b[0mjvm\u001b[0m\u001b[0;34m.\u001b[0m\u001b[0minit_jvm\u001b[0m\u001b[0;34m(\u001b[0m\u001b[0mjvmpath\u001b[0m\u001b[0;34m,\u001b[0m \u001b[0mmax_heap_size\u001b[0m\u001b[0;34m)\u001b[0m\u001b[0;34m\u001b[0m\u001b[0;34m\u001b[0m\u001b[0m\n\u001b[0m\u001b[1;32m     92\u001b[0m \u001b[0;34m\u001b[0m\u001b[0m\n\u001b[1;32m     93\u001b[0m         \u001b[0moktJavaPackage\u001b[0m \u001b[0;34m=\u001b[0m \u001b[0mjpype\u001b[0m\u001b[0;34m.\u001b[0m\u001b[0mJPackage\u001b[0m\u001b[0;34m(\u001b[0m\u001b[0;34m'kr.lucypark.okt'\u001b[0m\u001b[0;34m)\u001b[0m\u001b[0;34m\u001b[0m\u001b[0;34m\u001b[0m\u001b[0m\n",
      "\u001b[0;32m~/miniforge3/envs/AI86/lib/python3.8/site-packages/konlpy/jvm.py\u001b[0m in \u001b[0;36minit_jvm\u001b[0;34m(jvmpath, max_heap_size)\u001b[0m\n\u001b[1;32m     53\u001b[0m     \u001b[0mclasspath\u001b[0m \u001b[0;34m=\u001b[0m \u001b[0mos\u001b[0m\u001b[0;34m.\u001b[0m\u001b[0mpathsep\u001b[0m\u001b[0;34m.\u001b[0m\u001b[0mjoin\u001b[0m\u001b[0;34m(\u001b[0m\u001b[0mf\u001b[0m\u001b[0;34m.\u001b[0m\u001b[0mformat\u001b[0m\u001b[0;34m(\u001b[0m\u001b[0;34m*\u001b[0m\u001b[0margs\u001b[0m\u001b[0;34m)\u001b[0m \u001b[0;32mfor\u001b[0m \u001b[0mf\u001b[0m \u001b[0;32min\u001b[0m \u001b[0mfolder_suffix\u001b[0m\u001b[0;34m)\u001b[0m\u001b[0;34m\u001b[0m\u001b[0;34m\u001b[0m\u001b[0m\n\u001b[1;32m     54\u001b[0m \u001b[0;34m\u001b[0m\u001b[0m\n\u001b[0;32m---> 55\u001b[0;31m     \u001b[0mjvmpath\u001b[0m \u001b[0;34m=\u001b[0m \u001b[0mjvmpath\u001b[0m \u001b[0;32mor\u001b[0m \u001b[0mjpype\u001b[0m\u001b[0;34m.\u001b[0m\u001b[0mgetDefaultJVMPath\u001b[0m\u001b[0;34m(\u001b[0m\u001b[0;34m)\u001b[0m\u001b[0;34m\u001b[0m\u001b[0;34m\u001b[0m\u001b[0m\n\u001b[0m\u001b[1;32m     56\u001b[0m \u001b[0;34m\u001b[0m\u001b[0m\n\u001b[1;32m     57\u001b[0m     \u001b[0;31m# NOTE: Temporary patch for Issue #76. Erase when possible.\u001b[0m\u001b[0;34m\u001b[0m\u001b[0;34m\u001b[0m\u001b[0;34m\u001b[0m\u001b[0m\n",
      "\u001b[0;32m~/miniforge3/envs/AI86/lib/python3.8/site-packages/jpype/_jvmfinder.py\u001b[0m in \u001b[0;36mgetDefaultJVMPath\u001b[0;34m()\u001b[0m\n\u001b[1;32m     72\u001b[0m     \u001b[0;32melse\u001b[0m\u001b[0;34m:\u001b[0m\u001b[0;34m\u001b[0m\u001b[0;34m\u001b[0m\u001b[0m\n\u001b[1;32m     73\u001b[0m         \u001b[0mfinder\u001b[0m \u001b[0;34m=\u001b[0m \u001b[0mLinuxJVMFinder\u001b[0m\u001b[0;34m(\u001b[0m\u001b[0;34m)\u001b[0m\u001b[0;34m\u001b[0m\u001b[0;34m\u001b[0m\u001b[0m\n\u001b[0;32m---> 74\u001b[0;31m     \u001b[0;32mreturn\u001b[0m \u001b[0mfinder\u001b[0m\u001b[0;34m.\u001b[0m\u001b[0mget_jvm_path\u001b[0m\u001b[0;34m(\u001b[0m\u001b[0;34m)\u001b[0m\u001b[0;34m\u001b[0m\u001b[0;34m\u001b[0m\u001b[0m\n\u001b[0m\u001b[1;32m     75\u001b[0m \u001b[0;34m\u001b[0m\u001b[0m\n\u001b[1;32m     76\u001b[0m \u001b[0;34m\u001b[0m\u001b[0m\n",
      "\u001b[0;32m~/miniforge3/envs/AI86/lib/python3.8/site-packages/jpype/_jvmfinder.py\u001b[0m in \u001b[0;36mget_jvm_path\u001b[0;34m(self)\u001b[0m\n\u001b[1;32m    210\u001b[0m         \u001b[0;32mif\u001b[0m \u001b[0mjvm_notsupport_ext\u001b[0m \u001b[0;32mis\u001b[0m \u001b[0;32mnot\u001b[0m \u001b[0;32mNone\u001b[0m\u001b[0;34m:\u001b[0m\u001b[0;34m\u001b[0m\u001b[0;34m\u001b[0m\u001b[0m\n\u001b[1;32m    211\u001b[0m             \u001b[0;32mraise\u001b[0m \u001b[0mjvm_notsupport_ext\u001b[0m\u001b[0;34m\u001b[0m\u001b[0;34m\u001b[0m\u001b[0m\n\u001b[0;32m--> 212\u001b[0;31m         raise JVMNotFoundException(\"No JVM shared library file ({0}) \"\n\u001b[0m\u001b[1;32m    213\u001b[0m                                    \u001b[0;34m\"found. Try setting up the JAVA_HOME \"\u001b[0m\u001b[0;34m\u001b[0m\u001b[0;34m\u001b[0m\u001b[0m\n\u001b[1;32m    214\u001b[0m                                    \u001b[0;34m\"environment variable properly.\"\u001b[0m\u001b[0;34m\u001b[0m\u001b[0;34m\u001b[0m\u001b[0m\n",
      "\u001b[0;31mJVMNotFoundException\u001b[0m: No JVM shared library file (libjli.dylib) found. Try setting up the JAVA_HOME environment variable properly."
     ]
    }
   ],
   "source": [
    "# 형태소 분석 okt test\n",
    "okt = Okt()\n",
    "print('형태소 분석')\n",
    "print('target :', X[0])\n",
    "test = okt.morphs(X[0])\n",
    "print('result :', test)\n"
   ]
  },
  {
   "cell_type": "code",
   "execution_count": 24,
   "metadata": {},
   "outputs": [
    {
     "name": "stdout",
     "output_type": "stream",
     "text": [
      "(40986,)\n",
      "40986\n"
     ]
    }
   ],
   "source": [
    "print(X.shape)\n",
    "print(len(X))"
   ]
  },
  {
   "cell_type": "code",
   "execution_count": 25,
   "metadata": {},
   "outputs": [],
   "source": [
    "# 형태소 분석 된 X data 저장\n",
    "X.to_csv('./data/morphs_X_1.csv')"
   ]
  },
  {
   "cell_type": "markdown",
   "metadata": {},
   "source": [
    "### 불용어 제거\n",
    "- 영어, 숫자도 제거할 것인지?"
   ]
  },
  {
   "cell_type": "code",
   "execution_count": 26,
   "metadata": {},
   "outputs": [
    {
     "name": "stderr",
     "output_type": "stream",
     "text": [
      "ipykernel_launcher:11: SettingWithCopyWarning: \n",
      "A value is trying to be set on a copy of a slice from a DataFrame\n",
      "\n",
      "See the caveats in the documentation: https://pandas.pydata.org/pandas-docs/stable/user_guide/indexing.html#returning-a-view-versus-a-copy\n",
      "0 / 40986\n",
      "....................5000 / 40986\n",
      "....................10000 / 40986\n",
      "....................15000 / 40986\n",
      "....................20000 / 40986\n",
      "....................25000 / 40986\n",
      "....................30000 / 40986\n",
      "....................35000 / 40986\n",
      "....................40000 / 40986\n",
      "...0        리셋 다이어트 10 kg 밀가루 단식 저자 100일 밀가루 단식 다이어트 매주 새로...\n",
      "1        맛있고 배부른데 빠지는 다이어트 레시피 끝판 101 가지 2018년 2019년 20...   \n",
      "2        주부 매일 인스타그램 밥상 메뉴 올리는 이유 먹고 사는지 자랑 하려는 절대 엄마 아...\n",
      "3        가루 큐브 밥솥 칸막이 활용 최초 이유식 엄마 정성 사랑 듬뿍 담긴 이유식 현실 쉽...\n",
      "4        다이어트 맛있게 먹어야 성공한다 미니 22 kg 엄마 17 kg 감량 수많은 다이어...\n",
      "                                            ...                                     \n",
      "40981    인생 쉽지 흘러가지 지성 이성 내린 선택 판단 절대 이지 느꼈을 불확실 성의 시대 ...\n",
      "40982    인가 욕망 좇는 주도 스펙 승진 명예 사회 주입 욕망 좇아온 10년 직장인 사주 만...\n",
      "40983    주역 변화 변화 밤하늘 화려하게 놓는 일월성신 규칙 운동 펼쳐지는 다양한 기후 현상...\n",
      "40984    주역 하늘 해와 바람 우레 연못 가지 형상 우주 근원 만물 변화 설명 준거로 삼았 ...\n",
      "40985    주역 소통 알려주는 인류 낳은 지혜 창고 주역 문명 역사 깊은 통찰 천명 으로부터 ...\n",
      "Name: Introduction, Length: 40986, dtype: object\n"
     ]
    }
   ],
   "source": [
    "# 불용어 제거\n",
    "stopwords = pd.read_csv('./data/stopwords.csv')\n",
    "\n",
    "# 불용어 제거 후 형태소로 이루어진 문장으로 재조합\n",
    "for i in range(len(X)) :\n",
    "  result = []\n",
    "  for j in range(len(X[i])):\n",
    "    if len(X[i][j]) > 1:  # 길이가 한 글자인 것은 지움\n",
    "      if X[i][j] not in list(stopwords['stopword']):\n",
    "        result.append(X[i][j])\n",
    "  X[i] = ' '.join(result)\n",
    "  if (i % 250 == 0) and (i>1):\n",
    "    print('.', end='')\n",
    "  if i % 5000 == 0:\n",
    "    print('{} / {}'.format(i, len(X)))\n",
    "print(X)"
   ]
  },
  {
   "cell_type": "code",
   "execution_count": 27,
   "metadata": {},
   "outputs": [],
   "source": [
    "# 불용어 제거된 X data 저장\n",
    "X.to_csv('./data/stopwords_removed_X_2.csv')"
   ]
  },
  {
   "cell_type": "markdown",
   "metadata": {},
   "source": [
    "### 토크나이징"
   ]
  },
  {
   "cell_type": "code",
   "execution_count": 28,
   "metadata": {},
   "outputs": [
    {
     "name": "stdout",
     "output_type": "stream",
     "text": [
      "[16483, 993, 180, 5186, 6332, 3991, 24, 8876, 6332, 3991, 993, 5910, 22, 200, 311, 4762, 2440, 129, 40256, 993, 8876, 335, 23, 34, 6243, 129, 2440, 5304, 40256, 993, 6332, 8769, 180, 5186, 5729, 8876, 886, 638, 4827, 1305, 3955, 546, 577, 457, 1510, 870, 57938, 41, 27160, 96180, 23281, 3731, 4863, 1736, 870, 7995, 457, 870, 3391, 47, 2349, 16887, 632, 16269, 8876, 96181, 78, 200, 6269, 864, 7132, 88, 5729, 328, 2267, 1627, 8385, 241, 29379, 6332, 8769, 8386, 1172, 24780, 11517, 441, 3551, 63360, 434, 2677, 125568, 2164, 508, 5350, 3281, 6332, 15119, 632, 3206, 3500, 96182, 296, 53669, 670, 361, 6332, 3991, 6062, 2803, 641, 47, 1474, 125569, 6, 1038, 296, 798, 3433, 1736, 744]\n"
     ]
    }
   ],
   "source": [
    "# tokenizing : 각 형태소에 숫자 label값을 배정\n",
    "token = Tokenizer()\n",
    "token.fit_on_texts(X)  # 형태소에 어떤 숫자를 배정할 것인지\n",
    "tokened_X = token.texts_to_sequences(X)  # 토큰에 저장된 label을 바탕으로 문장(X)을 변환\n",
    "print(tokened_X[0])"
   ]
  },
  {
   "cell_type": "code",
   "execution_count": 32,
   "metadata": {},
   "outputs": [],
   "source": [
    "# token 저장\n",
    "# tokened_X.to_csv('./data/tokened_X_3.csv')"
   ]
  },
  {
   "cell_type": "code",
   "execution_count": 29,
   "metadata": {},
   "outputs": [],
   "source": [
    "# 데이터 형태 그대로 저장\n",
    "with open('./data/book_token.pickle', 'wb') as f:\n",
    "  pickle.dump(token, f)"
   ]
  },
  {
   "cell_type": "markdown",
   "metadata": {},
   "source": [
    "## data 확인"
   ]
  },
  {
   "cell_type": "code",
   "execution_count": 33,
   "metadata": {
    "tags": []
   },
   "outputs": [
    {
     "name": "stdout",
     "output_type": "stream",
     "text": [
      "wordsize is :  218318\n"
     ]
    }
   ],
   "source": [
    "# 형태소 개수 확인\n",
    "wordsize = len(token.word_index) + 1\n",
    "# print('word index : ', token.word_index)\n",
    "print('wordsize is : ', wordsize)  # index 0를 padding 으로 추가 예정\n"
   ]
  },
  {
   "cell_type": "code",
   "execution_count": 43,
   "metadata": {},
   "outputs": [
    {
     "name": "stdout",
     "output_type": "stream",
     "text": [
      "196\n"
     ]
    }
   ],
   "source": [
    "## tokend_X의 아웃라이어 확인하기!!!!!!!\n",
    "tokened_len = []\n",
    "for i in range(len(tokened_X)):\n",
    "    tokened_len.append(len(tokened_X[i]))\n",
    "\n",
    "mean = np.mean(tokened_len)\n",
    "max = int(np.trunc(mean))\n",
    "print(max)"
   ]
  },
  {
   "cell_type": "code",
   "execution_count": null,
   "metadata": {},
   "outputs": [],
   "source": [
    "# # 1. 가장 긴 문장의 길이 확인\n",
    "# max = 0\n",
    "# for i in range(len(tokened_X)):\n",
    "#   if max < len(tokened_X[i]):\n",
    "#       max = len(tokened_X[i])\n",
    "      \n",
    "#       print('max is : ', max) "
   ]
  },
  {
   "cell_type": "code",
   "execution_count": 44,
   "metadata": {},
   "outputs": [
    {
     "name": "stdout",
     "output_type": "stream",
     "text": [
      "ERROR! Session/line number was not unique in[[    0     0     0 ...  3433  1736   744]\n",
      " [    0     0     0 ... 11441    10 29381]\n",
      " [    0     0     0 ...  1247 38591   696]\n",
      " ...\n",
      " [ 9929 13206 44406 ...   436   684  1016]\n",
      " [    0     0     0 ...   125   537  5503]\n",
      " [    0     0     0 ... 25882   289  1347]] database. History logging moved to new session 364\n",
      "\n"
     ]
    }
   ],
   "source": [
    "# padding\n",
    "X_pad = pad_sequences(tokened_X, max) # 앞쪽을 0으로 채움\n",
    "\n",
    "# X_pad.to_csv('./data/padded_X_4.csv')\n",
    "\n",
    "print(X_pad[:10])"
   ]
  },
  {
   "cell_type": "markdown",
   "metadata": {},
   "source": [
    "## Train, Test set split"
   ]
  },
  {
   "cell_type": "code",
   "execution_count": 49,
   "metadata": {},
   "outputs": [
    {
     "name": "stdout",
     "output_type": "stream",
     "text": [
      "(32788, 196)\n",
      "(8198, 196)\n",
      "(32788, 6)\n",
      "(8198, 6)\n"
     ]
    }
   ],
   "source": [
    "X_train, X_test, Y_train, Y_test = train_test_split(X_pad, onehot_Y, test_size=0.2)\n",
    "print(X_train.shape)\n",
    "print(X_test.shape)\n",
    "print(Y_train.shape)\n",
    "print(Y_test.shape)"
   ]
  },
  {
   "cell_type": "markdown",
   "metadata": {},
   "source": [
    "## Train, Test set 저장"
   ]
  },
  {
   "cell_type": "code",
   "execution_count": 50,
   "metadata": {},
   "outputs": [
    {
     "name": "stderr",
     "output_type": "stream",
     "text": [
      "/home/kaeun/.conda/envs/tf/lib/python3.7/site-packages/numpy/core/_asarray.py:136: VisibleDeprecationWarning: Creating an ndarray from ragged nested sequences (which is a list-or-tuple of lists-or-tuples-or ndarrays with different lengths or shapes) is deprecated. If you meant to do this, you must specify 'dtype=object' when creating the ndarray\n",
      "  return array(a, dtype, copy=False, order=order, subok=True)\n"
     ]
    }
   ],
   "source": [
    "xy = X_train, X_test, Y_train, Y_test\n",
    "np.save('./data/book_data_max_{}_wordsize_{}'.format(max, wordsize), xy)"
   ]
  },
  {
   "cell_type": "code",
   "execution_count": null,
   "metadata": {},
   "outputs": [],
   "source": []
  },
  {
   "cell_type": "code",
   "execution_count": 3,
   "metadata": {},
   "outputs": [
    {
     "data": {
      "text/html": [
       "<div>\n",
       "<style scoped>\n",
       "    .dataframe tbody tr th:only-of-type {\n",
       "        vertical-align: middle;\n",
       "    }\n",
       "\n",
       "    .dataframe tbody tr th {\n",
       "        vertical-align: top;\n",
       "    }\n",
       "\n",
       "    .dataframe thead th {\n",
       "        text-align: right;\n",
       "    }\n",
       "</style>\n",
       "<table border=\"1\" class=\"dataframe\">\n",
       "  <thead>\n",
       "    <tr style=\"text-align: right;\">\n",
       "      <th></th>\n",
       "      <th>title</th>\n",
       "      <th>genre</th>\n",
       "      <th>story</th>\n",
       "    </tr>\n",
       "  </thead>\n",
       "  <tbody>\n",
       "    <tr>\n",
       "      <th>0</th>\n",
       "      <td>0.5미리</td>\n",
       "      <td>드라마</td>\n",
       "      <td>NaN</td>\n",
       "    </tr>\n",
       "    <tr>\n",
       "      <th>1</th>\n",
       "      <td>00c6</td>\n",
       "      <td>드라마</td>\n",
       "      <td>곧 다가오는 미래에 중국 사회는 인구 불균형 위기에 직면하게 되고, 중국 남자 인구...</td>\n",
       "    </tr>\n",
       "    <tr>\n",
       "      <th>2</th>\n",
       "      <td>02-06</td>\n",
       "      <td>드라마</td>\n",
       "      <td>NaN</td>\n",
       "    </tr>\n",
       "    <tr>\n",
       "      <th>3</th>\n",
       "      <td>03:34 대지진</td>\n",
       "      <td>드라마</td>\n",
       "      <td>두 아들의 엄마, 알리시아는 이혼한 남편, 아이들과 떨어져 휴가를 즐기고 애나는 남...</td>\n",
       "    </tr>\n",
       "    <tr>\n",
       "      <th>4</th>\n",
       "      <td>0609_청계산</td>\n",
       "      <td>드라마</td>\n",
       "      <td>오래된 연인이 산을 오른다. 두 사람은 가까이 있다가도 멀리 있다. 정상에서, 두 ...</td>\n",
       "    </tr>\n",
       "    <tr>\n",
       "      <th>5</th>\n",
       "      <td>0시의 그녀</td>\n",
       "      <td>드라마</td>\n",
       "      <td>슈퍼스타를 꿈꾸던 주인공 지단. 우연히 운영을 맡게 된 노래방에서 수상한 알바생 세...</td>\n",
       "    </tr>\n",
       "    <tr>\n",
       "      <th>6</th>\n",
       "      <td>1 데이</td>\n",
       "      <td>드라마</td>\n",
       "      <td>NaN</td>\n",
       "    </tr>\n",
       "    <tr>\n",
       "      <th>7</th>\n",
       "      <td>1 마일 투 유</td>\n",
       "      <td>드라마</td>\n",
       "      <td>NaN</td>\n",
       "    </tr>\n",
       "    <tr>\n",
       "      <th>8</th>\n",
       "      <td>1 메시지</td>\n",
       "      <td>드라마</td>\n",
       "      <td>NaN</td>\n",
       "    </tr>\n",
       "    <tr>\n",
       "      <th>9</th>\n",
       "      <td>1 베를린-할렘</td>\n",
       "      <td>드라마</td>\n",
       "      <td>NaN</td>\n",
       "    </tr>\n",
       "  </tbody>\n",
       "</table>\n",
       "</div>"
      ],
      "text/plain": [
       "       title genre                                              story\n",
       "0      0.5미리   드라마                                                NaN\n",
       "1       00c6   드라마  곧 다가오는 미래에 중국 사회는 인구 불균형 위기에 직면하게 되고, 중국 남자 인구...\n",
       "2      02-06   드라마                                                NaN\n",
       "3  03:34 대지진   드라마  두 아들의 엄마, 알리시아는 이혼한 남편, 아이들과 떨어져 휴가를 즐기고 애나는 남...\n",
       "4   0609_청계산   드라마  오래된 연인이 산을 오른다. 두 사람은 가까이 있다가도 멀리 있다. 정상에서, 두 ...\n",
       "5     0시의 그녀   드라마  슈퍼스타를 꿈꾸던 주인공 지단. 우연히 운영을 맡게 된 노래방에서 수상한 알바생 세...\n",
       "6       1 데이   드라마                                                NaN\n",
       "7   1 마일 투 유   드라마                                                NaN\n",
       "8      1 메시지   드라마                                                NaN\n",
       "9   1 베를린-할렘   드라마                                                NaN"
      ]
     },
     "execution_count": 3,
     "metadata": {},
     "output_type": "execute_result"
    }
   ],
   "source": [
    "m_df = pd.read_csv('./data/naver_movie_genre_crawling_123128.csv', index_col=0)\n",
    "m_df.head(10)"
   ]
  },
  {
   "cell_type": "code",
   "execution_count": 4,
   "metadata": {},
   "outputs": [
    {
     "data": {
      "text/plain": [
       "123128"
      ]
     },
     "execution_count": 4,
     "metadata": {},
     "output_type": "execute_result"
    }
   ],
   "source": [
    "len(m_df)"
   ]
  },
  {
   "cell_type": "code",
   "execution_count": 5,
   "metadata": {},
   "outputs": [
    {
     "data": {
      "text/plain": [
       "57114"
      ]
     },
     "execution_count": 5,
     "metadata": {},
     "output_type": "execute_result"
    }
   ],
   "source": [
    "m_df = m_df.dropna(axis=0)\n",
    "len(m_df)"
   ]
  },
  {
   "cell_type": "code",
   "execution_count": 6,
   "metadata": {},
   "outputs": [],
   "source": [
    "for i in range(len(m_df)):\n",
    "    for j in range(5, 1, -1):\n",
    "        m_df.iloc[i,2] = m_df.iloc[i,2].replace(' '*j,  ' ')"
   ]
  },
  {
   "cell_type": "code",
   "execution_count": 7,
   "metadata": {},
   "outputs": [
    {
     "name": "stdout",
     "output_type": "stream",
     "text": [
      "after gap-healing: 57114\n"
     ]
    }
   ],
   "source": [
    "print('after gap-healing:', len(m_df))"
   ]
  },
  {
   "cell_type": "code",
   "execution_count": 8,
   "metadata": {},
   "outputs": [
    {
     "data": {
      "text/plain": [
       "636"
      ]
     },
     "execution_count": 8,
     "metadata": {},
     "output_type": "execute_result"
    }
   ],
   "source": [
    "sum2_dup = m_df.story.duplicated().sum()\n",
    "sum2_dup"
   ]
  },
  {
   "cell_type": "code",
   "execution_count": 9,
   "metadata": {},
   "outputs": [
    {
     "name": "stderr",
     "output_type": "stream",
     "text": [
      "ERROR:root:Internal Python error in the inspect module.\n",
      "Below is the traceback from this internal error.\n",
      "\n",
      "ERROR:root:Internal Python error in the inspect module.\n",
      "Below is the traceback from this internal error.\n",
      "\n",
      "ERROR:root:Internal Python error in the inspect module.\n",
      "Below is the traceback from this internal error.\n",
      "\n",
      "Traceback (most recent call last):\n",
      "  File \"/home/kaeun/.conda/envs/tf/lib/python3.7/site-packages/IPython/core/interactiveshell.py\", line 3437, in run_code\n",
      "    exec(code_obj, self.user_global_ns, self.user_ns)\n",
      "  File \"<ipython-input-9-f517f7e03f19>\", line 2, in <module>\n",
      "    sum2_dup= m_df.Introduction.duplicated().sum()\n",
      "  File \"/home/kaeun/.conda/envs/tf/lib/python3.7/site-packages/pandas/core/generic.py\", line 5465, in __getattr__\n",
      "    return object.__getattribute__(self, name)\n",
      "AttributeError: 'DataFrame' object has no attribute 'Introduction'\n",
      "\n",
      "During handling of the above exception, another exception occurred:\n",
      "\n",
      "Traceback (most recent call last):\n",
      "  File \"/home/kaeun/.conda/envs/tf/lib/python3.7/site-packages/IPython/core/interactiveshell.py\", line 2061, in showtraceback\n",
      "    stb = value._render_traceback_()\n",
      "AttributeError: 'AttributeError' object has no attribute '_render_traceback_'\n",
      "\n",
      "During handling of the above exception, another exception occurred:\n",
      "\n",
      "Traceback (most recent call last):\n",
      "  File \"/home/kaeun/.conda/envs/tf/lib/python3.7/site-packages/IPython/core/ultratb.py\", line 1101, in get_records\n",
      "    return _fixed_getinnerframes(etb, number_of_lines_of_context, tb_offset)\n",
      "  File \"/home/kaeun/.conda/envs/tf/lib/python3.7/site-packages/IPython/core/ultratb.py\", line 248, in wrapped\n",
      "    return f(*args, **kwargs)\n",
      "  File \"/home/kaeun/.conda/envs/tf/lib/python3.7/site-packages/IPython/core/ultratb.py\", line 281, in _fixed_getinnerframes\n",
      "    records = fix_frame_records_filenames(inspect.getinnerframes(etb, context))\n",
      "  File \"/home/kaeun/.conda/envs/tf/lib/python3.7/inspect.py\", line 1502, in getinnerframes\n",
      "    frameinfo = (tb.tb_frame,) + getframeinfo(tb, context)\n",
      "  File \"/home/kaeun/.conda/envs/tf/lib/python3.7/inspect.py\", line 1460, in getframeinfo\n",
      "    filename = getsourcefile(frame) or getfile(frame)\n",
      "  File \"/home/kaeun/.conda/envs/tf/lib/python3.7/inspect.py\", line 696, in getsourcefile\n",
      "    if getattr(getmodule(object, filename), '__loader__', None) is not None:\n",
      "  File \"/home/kaeun/.conda/envs/tf/lib/python3.7/inspect.py\", line 733, in getmodule\n",
      "    if ismodule(module) and hasattr(module, '__file__'):\n",
      "  File \"/home/kaeun/.conda/envs/tf/lib/python3.7/site-packages/tensorflow/__init__.py\", line 50, in __getattr__\n",
      "    module = self._load()\n",
      "  File \"/home/kaeun/.conda/envs/tf/lib/python3.7/site-packages/tensorflow/__init__.py\", line 44, in _load\n",
      "    module = _importlib.import_module(self.__name__)\n",
      "  File \"/home/kaeun/.conda/envs/tf/lib/python3.7/importlib/__init__.py\", line 127, in import_module\n",
      "    return _bootstrap._gcd_import(name[level:], package, level)\n",
      "  File \"<frozen importlib._bootstrap>\", line 1006, in _gcd_import\n",
      "  File \"<frozen importlib._bootstrap>\", line 983, in _find_and_load\n",
      "  File \"<frozen importlib._bootstrap>\", line 965, in _find_and_load_unlocked\n",
      "ModuleNotFoundError: No module named 'tensorflow_core.estimator'\n",
      "Traceback (most recent call last):\n",
      "  File \"/home/kaeun/.conda/envs/tf/lib/python3.7/site-packages/IPython/core/interactiveshell.py\", line 3437, in run_code\n",
      "    exec(code_obj, self.user_global_ns, self.user_ns)\n",
      "  File \"<ipython-input-9-f517f7e03f19>\", line 2, in <module>\n",
      "    sum2_dup= m_df.Introduction.duplicated().sum()\n",
      "  File \"/home/kaeun/.conda/envs/tf/lib/python3.7/site-packages/pandas/core/generic.py\", line 5465, in __getattr__\n",
      "    return object.__getattribute__(self, name)\n",
      "AttributeError: 'DataFrame' object has no attribute 'Introduction'\n",
      "\n",
      "During handling of the above exception, another exception occurred:\n",
      "\n",
      "Traceback (most recent call last):\n",
      "  File \"/home/kaeun/.conda/envs/tf/lib/python3.7/site-packages/IPython/core/interactiveshell.py\", line 2061, in showtraceback\n",
      "    stb = value._render_traceback_()\n",
      "AttributeError: 'AttributeError' object has no attribute '_render_traceback_'\n",
      "\n",
      "During handling of the above exception, another exception occurred:\n",
      "\n",
      "Traceback (most recent call last):\n",
      "  File \"/home/kaeun/.conda/envs/tf/lib/python3.7/site-packages/IPython/core/interactiveshell.py\", line 3357, in run_ast_nodes\n",
      "    if (await self.run_code(code, result,  async_=asy)):\n",
      "  File \"/home/kaeun/.conda/envs/tf/lib/python3.7/site-packages/IPython/core/interactiveshell.py\", line 3454, in run_code\n",
      "    self.showtraceback(running_compiled_code=True)\n",
      "  File \"/home/kaeun/.conda/envs/tf/lib/python3.7/site-packages/IPython/core/interactiveshell.py\", line 2064, in showtraceback\n",
      "    value, tb, tb_offset=tb_offset)\n",
      "  File \"/home/kaeun/.conda/envs/tf/lib/python3.7/site-packages/IPython/core/ultratb.py\", line 1368, in structured_traceback\n",
      "    self, etype, value, tb, tb_offset, number_of_lines_of_context)\n",
      "  File \"/home/kaeun/.conda/envs/tf/lib/python3.7/site-packages/IPython/core/ultratb.py\", line 1268, in structured_traceback\n",
      "    self, etype, value, tb, tb_offset, number_of_lines_of_context\n",
      "  File \"/home/kaeun/.conda/envs/tf/lib/python3.7/site-packages/IPython/core/ultratb.py\", line 1125, in structured_traceback\n",
      "    tb_offset)\n",
      "  File \"/home/kaeun/.conda/envs/tf/lib/python3.7/site-packages/IPython/core/ultratb.py\", line 1082, in format_exception_as_a_whole\n",
      "    last_unique, recursion_repeat = find_recursion(orig_etype, evalue, records)\n",
      "  File \"/home/kaeun/.conda/envs/tf/lib/python3.7/site-packages/IPython/core/ultratb.py\", line 382, in find_recursion\n",
      "    return len(records), 0\n",
      "TypeError: object of type 'NoneType' has no len()\n",
      "\n",
      "During handling of the above exception, another exception occurred:\n",
      "\n",
      "Traceback (most recent call last):\n",
      "  File \"/home/kaeun/.conda/envs/tf/lib/python3.7/site-packages/IPython/core/interactiveshell.py\", line 2061, in showtraceback\n",
      "    stb = value._render_traceback_()\n",
      "AttributeError: 'TypeError' object has no attribute '_render_traceback_'\n",
      "\n",
      "During handling of the above exception, another exception occurred:\n",
      "\n",
      "Traceback (most recent call last):\n",
      "  File \"/home/kaeun/.conda/envs/tf/lib/python3.7/site-packages/IPython/core/ultratb.py\", line 1101, in get_records\n",
      "    return _fixed_getinnerframes(etb, number_of_lines_of_context, tb_offset)\n",
      "  File \"/home/kaeun/.conda/envs/tf/lib/python3.7/site-packages/IPython/core/ultratb.py\", line 248, in wrapped\n",
      "    return f(*args, **kwargs)\n",
      "  File \"/home/kaeun/.conda/envs/tf/lib/python3.7/site-packages/IPython/core/ultratb.py\", line 281, in _fixed_getinnerframes\n",
      "    records = fix_frame_records_filenames(inspect.getinnerframes(etb, context))\n",
      "  File \"/home/kaeun/.conda/envs/tf/lib/python3.7/inspect.py\", line 1502, in getinnerframes\n",
      "    frameinfo = (tb.tb_frame,) + getframeinfo(tb, context)\n",
      "  File \"/home/kaeun/.conda/envs/tf/lib/python3.7/inspect.py\", line 1460, in getframeinfo\n",
      "    filename = getsourcefile(frame) or getfile(frame)\n",
      "  File \"/home/kaeun/.conda/envs/tf/lib/python3.7/inspect.py\", line 696, in getsourcefile\n",
      "    if getattr(getmodule(object, filename), '__loader__', None) is not None:\n",
      "  File \"/home/kaeun/.conda/envs/tf/lib/python3.7/inspect.py\", line 733, in getmodule\n",
      "    if ismodule(module) and hasattr(module, '__file__'):\n",
      "  File \"/home/kaeun/.conda/envs/tf/lib/python3.7/site-packages/tensorflow/__init__.py\", line 50, in __getattr__\n",
      "    module = self._load()\n",
      "  File \"/home/kaeun/.conda/envs/tf/lib/python3.7/site-packages/tensorflow/__init__.py\", line 44, in _load\n",
      "    module = _importlib.import_module(self.__name__)\n",
      "  File \"/home/kaeun/.conda/envs/tf/lib/python3.7/importlib/__init__.py\", line 127, in import_module\n",
      "    return _bootstrap._gcd_import(name[level:], package, level)\n",
      "  File \"<frozen importlib._bootstrap>\", line 1006, in _gcd_import\n",
      "  File \"<frozen importlib._bootstrap>\", line 983, in _find_and_load\n",
      "  File \"<frozen importlib._bootstrap>\", line 965, in _find_and_load_unlocked\n",
      "ModuleNotFoundError: No module named 'tensorflow_core.estimator'\n",
      "Traceback (most recent call last):\n",
      "  File \"/home/kaeun/.conda/envs/tf/lib/python3.7/site-packages/IPython/core/interactiveshell.py\", line 3437, in run_code\n",
      "    exec(code_obj, self.user_global_ns, self.user_ns)\n",
      "  File \"<ipython-input-9-f517f7e03f19>\", line 2, in <module>\n",
      "    sum2_dup= m_df.Introduction.duplicated().sum()\n",
      "  File \"/home/kaeun/.conda/envs/tf/lib/python3.7/site-packages/pandas/core/generic.py\", line 5465, in __getattr__\n",
      "    return object.__getattribute__(self, name)\n",
      "AttributeError: 'DataFrame' object has no attribute 'Introduction'\n",
      "\n",
      "During handling of the above exception, another exception occurred:\n",
      "\n",
      "Traceback (most recent call last):\n",
      "  File \"/home/kaeun/.conda/envs/tf/lib/python3.7/site-packages/IPython/core/interactiveshell.py\", line 2061, in showtraceback\n",
      "    stb = value._render_traceback_()\n",
      "AttributeError: 'AttributeError' object has no attribute '_render_traceback_'\n",
      "\n",
      "During handling of the above exception, another exception occurred:\n",
      "\n",
      "Traceback (most recent call last):\n",
      "  File \"/home/kaeun/.conda/envs/tf/lib/python3.7/site-packages/IPython/core/interactiveshell.py\", line 3357, in run_ast_nodes\n",
      "    if (await self.run_code(code, result,  async_=asy)):\n",
      "  File \"/home/kaeun/.conda/envs/tf/lib/python3.7/site-packages/IPython/core/interactiveshell.py\", line 3454, in run_code\n",
      "    self.showtraceback(running_compiled_code=True)\n",
      "  File \"/home/kaeun/.conda/envs/tf/lib/python3.7/site-packages/IPython/core/interactiveshell.py\", line 2064, in showtraceback\n",
      "    value, tb, tb_offset=tb_offset)\n",
      "  File \"/home/kaeun/.conda/envs/tf/lib/python3.7/site-packages/IPython/core/ultratb.py\", line 1368, in structured_traceback\n",
      "    self, etype, value, tb, tb_offset, number_of_lines_of_context)\n",
      "  File \"/home/kaeun/.conda/envs/tf/lib/python3.7/site-packages/IPython/core/ultratb.py\", line 1268, in structured_traceback\n",
      "    self, etype, value, tb, tb_offset, number_of_lines_of_context\n",
      "  File \"/home/kaeun/.conda/envs/tf/lib/python3.7/site-packages/IPython/core/ultratb.py\", line 1125, in structured_traceback\n",
      "    tb_offset)\n",
      "  File \"/home/kaeun/.conda/envs/tf/lib/python3.7/site-packages/IPython/core/ultratb.py\", line 1082, in format_exception_as_a_whole\n",
      "    last_unique, recursion_repeat = find_recursion(orig_etype, evalue, records)\n",
      "  File \"/home/kaeun/.conda/envs/tf/lib/python3.7/site-packages/IPython/core/ultratb.py\", line 382, in find_recursion\n",
      "    return len(records), 0\n",
      "TypeError: object of type 'NoneType' has no len()\n",
      "\n",
      "During handling of the above exception, another exception occurred:\n",
      "\n",
      "Traceback (most recent call last):\n",
      "  File \"/home/kaeun/.conda/envs/tf/lib/python3.7/site-packages/IPython/core/interactiveshell.py\", line 2061, in showtraceback\n",
      "    stb = value._render_traceback_()\n",
      "AttributeError: 'TypeError' object has no attribute '_render_traceback_'\n",
      "\n",
      "During handling of the above exception, another exception occurred:\n",
      "\n",
      "Traceback (most recent call last):\n",
      "  File \"/home/kaeun/.conda/envs/tf/lib/python3.7/site-packages/IPython/core/interactiveshell.py\", line 2940, in _run_cell\n",
      "    return runner(coro)\n",
      "  File \"/home/kaeun/.conda/envs/tf/lib/python3.7/site-packages/IPython/core/async_helpers.py\", line 68, in _pseudo_sync_runner\n",
      "    coro.send(None)\n",
      "  File \"/home/kaeun/.conda/envs/tf/lib/python3.7/site-packages/IPython/core/interactiveshell.py\", line 3166, in run_cell_async\n",
      "    interactivity=interactivity, compiler=compiler, result=result)\n",
      "  File \"/home/kaeun/.conda/envs/tf/lib/python3.7/site-packages/IPython/core/interactiveshell.py\", line 3376, in run_ast_nodes\n",
      "    self.showtraceback()\n",
      "  File \"/home/kaeun/.conda/envs/tf/lib/python3.7/site-packages/IPython/core/interactiveshell.py\", line 2064, in showtraceback\n",
      "    value, tb, tb_offset=tb_offset)\n",
      "  File \"/home/kaeun/.conda/envs/tf/lib/python3.7/site-packages/IPython/core/ultratb.py\", line 1368, in structured_traceback\n",
      "    self, etype, value, tb, tb_offset, number_of_lines_of_context)\n",
      "  File \"/home/kaeun/.conda/envs/tf/lib/python3.7/site-packages/IPython/core/ultratb.py\", line 1268, in structured_traceback\n",
      "    self, etype, value, tb, tb_offset, number_of_lines_of_context\n",
      "  File \"/home/kaeun/.conda/envs/tf/lib/python3.7/site-packages/IPython/core/ultratb.py\", line 1143, in structured_traceback\n",
      "    chained_exceptions_tb_offset)\n",
      "  File \"/home/kaeun/.conda/envs/tf/lib/python3.7/site-packages/IPython/core/ultratb.py\", line 1082, in format_exception_as_a_whole\n",
      "    last_unique, recursion_repeat = find_recursion(orig_etype, evalue, records)\n",
      "  File \"/home/kaeun/.conda/envs/tf/lib/python3.7/site-packages/IPython/core/ultratb.py\", line 382, in find_recursion\n",
      "    return len(records), 0\n",
      "TypeError: object of type 'NoneType' has no len()\n",
      "\n",
      "During handling of the above exception, another exception occurred:\n",
      "\n",
      "Traceback (most recent call last):\n",
      "  File \"/home/kaeun/.conda/envs/tf/lib/python3.7/site-packages/IPython/core/interactiveshell.py\", line 2061, in showtraceback\n",
      "    stb = value._render_traceback_()\n",
      "AttributeError: 'TypeError' object has no attribute '_render_traceback_'\n",
      "\n",
      "During handling of the above exception, another exception occurred:\n",
      "\n",
      "Traceback (most recent call last):\n",
      "  File \"/home/kaeun/.conda/envs/tf/lib/python3.7/site-packages/IPython/core/ultratb.py\", line 1101, in get_records\n",
      "    return _fixed_getinnerframes(etb, number_of_lines_of_context, tb_offset)\n",
      "  File \"/home/kaeun/.conda/envs/tf/lib/python3.7/site-packages/IPython/core/ultratb.py\", line 248, in wrapped\n",
      "    return f(*args, **kwargs)\n",
      "  File \"/home/kaeun/.conda/envs/tf/lib/python3.7/site-packages/IPython/core/ultratb.py\", line 281, in _fixed_getinnerframes\n",
      "    records = fix_frame_records_filenames(inspect.getinnerframes(etb, context))\n",
      "  File \"/home/kaeun/.conda/envs/tf/lib/python3.7/inspect.py\", line 1502, in getinnerframes\n",
      "    frameinfo = (tb.tb_frame,) + getframeinfo(tb, context)\n",
      "  File \"/home/kaeun/.conda/envs/tf/lib/python3.7/inspect.py\", line 1460, in getframeinfo\n",
      "    filename = getsourcefile(frame) or getfile(frame)\n",
      "  File \"/home/kaeun/.conda/envs/tf/lib/python3.7/inspect.py\", line 696, in getsourcefile\n",
      "    if getattr(getmodule(object, filename), '__loader__', None) is not None:\n",
      "  File \"/home/kaeun/.conda/envs/tf/lib/python3.7/inspect.py\", line 733, in getmodule\n",
      "    if ismodule(module) and hasattr(module, '__file__'):\n",
      "  File \"/home/kaeun/.conda/envs/tf/lib/python3.7/site-packages/tensorflow/__init__.py\", line 50, in __getattr__\n",
      "    module = self._load()\n",
      "  File \"/home/kaeun/.conda/envs/tf/lib/python3.7/site-packages/tensorflow/__init__.py\", line 44, in _load\n",
      "    module = _importlib.import_module(self.__name__)\n",
      "  File \"/home/kaeun/.conda/envs/tf/lib/python3.7/importlib/__init__.py\", line 127, in import_module\n",
      "    return _bootstrap._gcd_import(name[level:], package, level)\n",
      "  File \"<frozen importlib._bootstrap>\", line 1006, in _gcd_import\n",
      "  File \"<frozen importlib._bootstrap>\", line 983, in _find_and_load\n",
      "  File \"<frozen importlib._bootstrap>\", line 965, in _find_and_load_unlocked\n",
      "ModuleNotFoundError: No module named 'tensorflow_core.estimator'\n"
     ]
    }
   ],
   "source": [
    "m_df = m_df.drop_duplicates(subset=['story'])\n",
    "# sum2_dup= m_df.Introduction.duplicated().sum()\n",
    "# sum2_dup"
   ]
  },
  {
   "cell_type": "code",
   "execution_count": 13,
   "metadata": {},
   "outputs": [
    {
     "data": {
      "text/plain": [
       "56478"
      ]
     },
     "execution_count": 13,
     "metadata": {},
     "output_type": "execute_result"
    }
   ],
   "source": [
    "len(m_df)"
   ]
  },
  {
   "cell_type": "code",
   "execution_count": 14,
   "metadata": {},
   "outputs": [],
   "source": [
    "m_df['cnt'] = 1"
   ]
  },
  {
   "cell_type": "code",
   "execution_count": 15,
   "metadata": {},
   "outputs": [
    {
     "data": {
      "text/html": [
       "<div>\n",
       "<style scoped>\n",
       "    .dataframe tbody tr th:only-of-type {\n",
       "        vertical-align: middle;\n",
       "    }\n",
       "\n",
       "    .dataframe tbody tr th {\n",
       "        vertical-align: top;\n",
       "    }\n",
       "\n",
       "    .dataframe thead th {\n",
       "        text-align: right;\n",
       "    }\n",
       "</style>\n",
       "<table border=\"1\" class=\"dataframe\">\n",
       "  <thead>\n",
       "    <tr style=\"text-align: right;\">\n",
       "      <th></th>\n",
       "      <th>title</th>\n",
       "      <th>genre</th>\n",
       "      <th>story</th>\n",
       "      <th>cnt</th>\n",
       "    </tr>\n",
       "  </thead>\n",
       "  <tbody>\n",
       "    <tr>\n",
       "      <th>1</th>\n",
       "      <td>00c6</td>\n",
       "      <td>드라마</td>\n",
       "      <td>곧 다가오는 미래에 중국 사회는 인구 불균형 위기에 직면하게 되고, 중국 남자 인구...</td>\n",
       "      <td>1</td>\n",
       "    </tr>\n",
       "    <tr>\n",
       "      <th>3</th>\n",
       "      <td>03:34 대지진</td>\n",
       "      <td>드라마</td>\n",
       "      <td>두 아들의 엄마, 알리시아는 이혼한 남편, 아이들과 떨어져 휴가를 즐기고 애나는 남...</td>\n",
       "      <td>1</td>\n",
       "    </tr>\n",
       "    <tr>\n",
       "      <th>4</th>\n",
       "      <td>0609_청계산</td>\n",
       "      <td>드라마</td>\n",
       "      <td>오래된 연인이 산을 오른다. 두 사람은 가까이 있다가도 멀리 있다. 정상에서, 두 ...</td>\n",
       "      <td>1</td>\n",
       "    </tr>\n",
       "    <tr>\n",
       "      <th>5</th>\n",
       "      <td>0시의 그녀</td>\n",
       "      <td>드라마</td>\n",
       "      <td>슈퍼스타를 꿈꾸던 주인공 지단. 우연히 운영을 맡게 된 노래방에서 수상한 알바생 세...</td>\n",
       "      <td>1</td>\n",
       "    </tr>\n",
       "    <tr>\n",
       "      <th>12</th>\n",
       "      <td>1%의 어떤 것</td>\n",
       "      <td>드라마</td>\n",
       "      <td>20대~30대의 여섯 남녀들의 사랑을 그린 이야기</td>\n",
       "      <td>1</td>\n",
       "    </tr>\n",
       "    <tr>\n",
       "      <th>...</th>\n",
       "      <td>...</td>\n",
       "      <td>...</td>\n",
       "      <td>...</td>\n",
       "      <td>...</td>\n",
       "    </tr>\n",
       "    <tr>\n",
       "      <th>123123</th>\n",
       "      <td>호두까기 인형</td>\n",
       "      <td>공연실황</td>\n",
       "      <td>덫을 만들어 많은 쥐들을 죽게 만든 드로셀마이어에게 앙심을 품은 생쥐 왕은 드로셀마...</td>\n",
       "      <td>1</td>\n",
       "    </tr>\n",
       "    <tr>\n",
       "      <th>123124</th>\n",
       "      <td>호수의 여인</td>\n",
       "      <td>공연실황</td>\n",
       "      <td>16세기 초 스코틀랜드의 하이랜드를 배경으로 귀족들과 호수의 여인과의 사랑과 권력 ...</td>\n",
       "      <td>1</td>\n",
       "    </tr>\n",
       "    <tr>\n",
       "      <th>123125</th>\n",
       "      <td>호수의 여인 @ The Met</td>\n",
       "      <td>공연실황</td>\n",
       "      <td>벨칸토 레퍼토리의 수퍼스타 조이스 디도나토와 후안 디에고 플로레스가 고난도 성악 테...</td>\n",
       "      <td>1</td>\n",
       "    </tr>\n",
       "    <tr>\n",
       "      <th>123126</th>\n",
       "      <td>호프만 이야기</td>\n",
       "      <td>공연실황</td>\n",
       "      <td>세 가지 에피소드가 ‘옴니버스’ 형태를 이루고 있는 오페라로, 세 가지 에피소드는 ...</td>\n",
       "      <td>1</td>\n",
       "    </tr>\n",
       "    <tr>\n",
       "      <th>123127</th>\n",
       "      <td>후궁탈출</td>\n",
       "      <td>공연실황</td>\n",
       "      <td>젊은 귀족 여인 콘스탄체와 하녀 블론데, 콘스탄체의 약혼자 벨몬테의 하인 페드리요는...</td>\n",
       "      <td>1</td>\n",
       "    </tr>\n",
       "  </tbody>\n",
       "</table>\n",
       "<p>56478 rows × 4 columns</p>\n",
       "</div>"
      ],
      "text/plain": [
       "                   title genre  \\\n",
       "1                   00c6   드라마   \n",
       "3              03:34 대지진   드라마   \n",
       "4               0609_청계산   드라마   \n",
       "5                 0시의 그녀   드라마   \n",
       "12              1%의 어떤 것   드라마   \n",
       "...                  ...   ...   \n",
       "123123           호두까기 인형  공연실황   \n",
       "123124            호수의 여인  공연실황   \n",
       "123125  호수의 여인 @ The Met  공연실황   \n",
       "123126           호프만 이야기  공연실황   \n",
       "123127              후궁탈출  공연실황   \n",
       "\n",
       "                                                    story  cnt  \n",
       "1       곧 다가오는 미래에 중국 사회는 인구 불균형 위기에 직면하게 되고, 중국 남자 인구...    1  \n",
       "3       두 아들의 엄마, 알리시아는 이혼한 남편, 아이들과 떨어져 휴가를 즐기고 애나는 남...    1  \n",
       "4       오래된 연인이 산을 오른다. 두 사람은 가까이 있다가도 멀리 있다. 정상에서, 두 ...    1  \n",
       "5       슈퍼스타를 꿈꾸던 주인공 지단. 우연히 운영을 맡게 된 노래방에서 수상한 알바생 세...    1  \n",
       "12                            20대~30대의 여섯 남녀들의 사랑을 그린 이야기    1  \n",
       "...                                                   ...  ...  \n",
       "123123  덫을 만들어 많은 쥐들을 죽게 만든 드로셀마이어에게 앙심을 품은 생쥐 왕은 드로셀마...    1  \n",
       "123124  16세기 초 스코틀랜드의 하이랜드를 배경으로 귀족들과 호수의 여인과의 사랑과 권력 ...    1  \n",
       "123125  벨칸토 레퍼토리의 수퍼스타 조이스 디도나토와 후안 디에고 플로레스가 고난도 성악 테...    1  \n",
       "123126  세 가지 에피소드가 ‘옴니버스’ 형태를 이루고 있는 오페라로, 세 가지 에피소드는 ...    1  \n",
       "123127  젊은 귀족 여인 콘스탄체와 하녀 블론데, 콘스탄체의 약혼자 벨몬테의 하인 페드리요는...    1  \n",
       "\n",
       "[56478 rows x 4 columns]"
      ]
     },
     "execution_count": 15,
     "metadata": {},
     "output_type": "execute_result"
    }
   ],
   "source": [
    "m_df"
   ]
  },
  {
   "cell_type": "code",
   "execution_count": 16,
   "metadata": {},
   "outputs": [
    {
     "data": {
      "text/plain": [
       "genre\n",
       "SF          880\n",
       "가족          669\n",
       "공연실황        444\n",
       "공포         2472\n",
       "느와르          39\n",
       "다큐멘터리      8187\n",
       "드라마       20689\n",
       "멜로/로맨스     3260\n",
       "모험          860\n",
       "무협           72\n",
       "뮤지컬         154\n",
       "미스터리        483\n",
       "범죄         1616\n",
       "블랙코미디        21\n",
       "서부          129\n",
       "서사           25\n",
       "서스펜스         43\n",
       "스릴러        1580\n",
       "실험          776\n",
       "애니메이션      2192\n",
       "액션         5305\n",
       "전쟁          331\n",
       "컬트            4\n",
       "코미디        5584\n",
       "판타지         663\n",
       "Name: cnt, dtype: int64"
      ]
     },
     "execution_count": 16,
     "metadata": {},
     "output_type": "execute_result"
    }
   ],
   "source": [
    "group1 = m_df['cnt'].groupby(m_df['genre'])\n",
    "group1.sum()"
   ]
  },
  {
   "cell_type": "code",
   "execution_count": null,
   "metadata": {},
   "outputs": [],
   "source": []
  }
 ],
 "metadata": {
  "interpreter": {
   "hash": "9b78ea8340faa4f3fedfc3bbd1ba8106b0edcf38f62aea71ab9c2c97ecc54f73"
  },
  "kernelspec": {
   "display_name": "Python 3",
   "language": "python",
   "name": "python3"
  },
  "language_info": {
   "codemirror_mode": {
    "name": "ipython",
    "version": 3
   },
   "file_extension": ".py",
   "mimetype": "text/x-python",
   "name": "python",
   "nbconvert_exporter": "python",
   "pygments_lexer": "ipython3",
   "version": "3.8.6"
  }
 },
 "nbformat": 4,
 "nbformat_minor": 2
}
